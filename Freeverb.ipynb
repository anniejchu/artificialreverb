{
 "cells": [
  {
   "cell_type": "markdown",
   "id": "722b8a1a",
   "metadata": {},
   "source": [
    "## Freeverb\n",
    "#### Annie Chu | October 18, 2021\n",
    "Implementing Freeverb algorithms"
   ]
  },
  {
   "cell_type": "code",
   "execution_count": 4,
   "id": "e6dbac0d",
   "metadata": {},
   "outputs": [],
   "source": [
    "import numpy as np\n",
    "import matplotlib as mpl\n",
    "import matplotlib.pyplot as plt\n",
    "from scipy import signal\n",
    "from scipy.io import wavfile\n",
    "import simpleaudio as sa\n",
    "from matplotlib.pyplot import figure"
   ]
  },
  {
   "cell_type": "markdown",
   "id": "785674a3",
   "metadata": {},
   "source": [
    "#### Feedback Comb & All Pass Filters via Difference Equations"
   ]
  },
  {
   "cell_type": "code",
   "execution_count": 5,
   "id": "7b266808",
   "metadata": {},
   "outputs": [],
   "source": [
    "# creating feedback comb filter\n",
    "def comb(x_n, g, d):\n",
    "    # x_n is numpy array of initial samples\n",
    "    y_n = np.zeros(len(x_n));\n",
    "    for i in range(len(x_n)):\n",
    "        if i-d < 0:\n",
    "            y_n[i] = x_n[i]\n",
    "        else:\n",
    "            y_n[i] = x_n[i] + g*y_n[i-d]\n",
    "    return y_n"
   ]
  },
  {
   "cell_type": "code",
   "execution_count": 6,
   "id": "fa42e26c",
   "metadata": {},
   "outputs": [
    {
     "name": "stdout",
     "output_type": "stream",
     "text": [
      "[1.  0.6 0.2]\n",
      "[2.  1.2 0.4]\n"
     ]
    }
   ],
   "source": [
    "#testing comb\n",
    "x1 = np.array([1.0, 0.1, -0.1])\n",
    "\n",
    "y1 = comb(x1, 0.5, 1)\n",
    "y2 = comb(x1, 0.5, 1)\n",
    "\n",
    "print(y1)\n",
    "print(y1+y2)"
   ]
  },
  {
   "cell_type": "code",
   "execution_count": 7,
   "id": "3562e248",
   "metadata": {},
   "outputs": [],
   "source": [
    "# creating all pass filter\n",
    "def allpass(x_n, g, d):\n",
    "    # x_n is numpy array of initial samples\n",
    "    y_n = np.zeros(len(x_n));\n",
    "    for i in range(len(x_n)):\n",
    "        if i-d < 0:\n",
    "            y_n[i] = g*x_n[i]\n",
    "        else:\n",
    "            y_n[i] = g*x_n[i] + x_n[i-d] - g*y_n[i-d]\n",
    "    return y_n"
   ]
  },
  {
   "cell_type": "code",
   "execution_count": 8,
   "id": "f7fff119",
   "metadata": {},
   "outputs": [
    {
     "data": {
      "text/plain": [
       "array([ 0.5 ,  0.8 , -0.35])"
      ]
     },
     "execution_count": 8,
     "metadata": {},
     "output_type": "execute_result"
    }
   ],
   "source": [
    "#testing all pass\n",
    "x1 = np.array([1.0, 0.1, -0.1])\n",
    "\n",
    "allpass(x1, 0.5, 1)"
   ]
  },
  {
   "cell_type": "code",
   "execution_count": 9,
   "id": "57cc32c6",
   "metadata": {},
   "outputs": [],
   "source": [
    "# creating lowpass feedback comb filter (Schroeder-Moorer)\n",
    "def lp_comb(x_n, g, d, sg):\n",
    "    # x_n is numpy array of initial samples\n",
    "    # g = damp = initialdamp*scaledamp\n",
    "    # sg is secondary gain -- sg = room size = initialroom*scaleroom + offsetroom\n",
    "    y_n = np.zeros(len(x_n));\n",
    "    for i in range(len(x_n)):\n",
    "        if i-d < 0:\n",
    "            y_n[i] = x_n[i]\n",
    "        else:\n",
    "            y_n[i] = x_n[i] - g*x_n[i-1] + g*y_n[i-1] + sg*(1-g)*y_n[i-d]\n",
    "    return y_n"
   ]
  },
  {
   "cell_type": "code",
   "execution_count": 10,
   "id": "0465554d",
   "metadata": {},
   "outputs": [
    {
     "name": "stdout",
     "output_type": "stream",
     "text": [
      "[1.     0.45   0.2325]\n",
      "[2.    0.9   0.465]\n"
     ]
    }
   ],
   "source": [
    "#testing lp_comb\n",
    "x1 = np.array([1.0, 0.1, -0.1])\n",
    "\n",
    "y1 = lp_comb(x1, 0.5, 1, 0.7)\n",
    "y2 = lp_comb(x1, 0.5, 1, 0.7)\n",
    "\n",
    "print(y1)\n",
    "print(y1+y2)"
   ]
  },
  {
   "cell_type": "markdown",
   "id": "af415b3f",
   "metadata": {},
   "source": [
    "### Creating Reverb Class"
   ]
  },
  {
   "cell_type": "code",
   "execution_count": 16,
   "id": "7df74fca",
   "metadata": {},
   "outputs": [
    {
     "data": {
      "text/plain": [
       "array([ 2.072 ,  0.2072, -0.2072])"
      ]
     },
     "execution_count": 16,
     "metadata": {},
     "output_type": "execute_result"
    }
   ],
   "source": [
    "JCREV.x = x\n",
    "JCREV.rev()"
   ]
  },
  {
   "cell_type": "code",
   "execution_count": 182,
   "id": "71530f49",
   "metadata": {},
   "outputs": [],
   "source": [
    "class Freeverb:\n",
    "    kind = 'freeverb'\n",
    "    \n",
    "    def __init__(self, name, gc, sgc, dc, gap, dap, gx):\n",
    "        self.name = name\n",
    "        self.gc = gc\n",
    "        self.sgc = sgc\n",
    "        self.dc1 = dc[0]\n",
    "        self.dc2 = dc[1]\n",
    "        self.dc3 = dc[2]\n",
    "        self.dc4 = dc[3]\n",
    "        self.dc5 = dc[4]\n",
    "        self.dc6 = dc[5]\n",
    "        self.dc7 = dc[6]\n",
    "        self.dc8 = dc[7]\n",
    "        self.gap = gap\n",
    "        self.dap1 = dap[0]\n",
    "        self.dap2 = dap[1]\n",
    "        self.dap3 = dap[2]\n",
    "        self.dap4 = dap[3]\n",
    "        self.gx = gx\n",
    "        self.x = 0 #2 channel input\n",
    "        self.leftx = 0\n",
    "        self.rightx = 0\n",
    "        self.yc_out = 0\n",
    "        self.yap3 = 0\n",
    "        self.ly_final = 0\n",
    "        self.ry_final = 0\n",
    "        self.ss = 23 #stereo spread\n",
    "\n",
    "        \n",
    "    def left_rev(self):\n",
    "        self.leftx = self.x[:,0]\n",
    "        yc1 = lp_comb(self.leftx, self.gc, self.dc1, self.sgc) \n",
    "        yc2 = lp_comb(self.leftx, self.gc, self.dc2, self.sgc)\n",
    "        yc3 = lp_comb(self.leftx, self.gc, self.dc3, self.sgc)\n",
    "        yc4 = lp_comb(self.leftx, self.gc, self.dc4, self.sgc)\n",
    "        yc5 = lp_comb(self.leftx, self.gc, self.dc5, self.sgc)\n",
    "        yc6 = lp_comb(self.leftx, self.gc, self.dc6, self.sgc)\n",
    "        yc7 = lp_comb(self.leftx, self.gc, self.dc7, self.sgc)\n",
    "        yc8 = lp_comb(self.leftx, self.gc, self.dc8, self.sgc)\n",
    "\n",
    "        yc_out = yc1 + yc2 + yc3 + yc4 + yc5 + yc6 + yc7 + yc8\n",
    "\n",
    "        yap1 = allpass(yc_out, self.gap, self.dap1)\n",
    "        yap2 = allpass(yap1, self.gap, self.dap2)\n",
    "        yap3 = allpass(yap2, self.gap, self.dap3)\n",
    "        yap4 = allpass(yap2, self.gap, self.dap4)\n",
    "\n",
    "\n",
    "        self.ly_final = yap4 + (self.gx*self.leftx)\n",
    "        return self.ly_final\n",
    "    \n",
    "    def right_rev(self):\n",
    "        self.rightx = self.x[:,1]\n",
    "        yc1 = lp_comb(self.rightx, self.gc, self.dc1+self.ss, self.sgc) \n",
    "        yc2 = lp_comb(self.rightx, self.gc, self.dc2+self.ss, self.sgc)\n",
    "        yc3 = lp_comb(self.rightx, self.gc, self.dc3+self.ss, self.sgc)\n",
    "        yc4 = lp_comb(self.rightx, self.gc, self.dc4+self.ss, self.sgc)\n",
    "        yc5 = lp_comb(self.rightx, self.gc, self.dc5+self.ss, self.sgc)\n",
    "        yc6 = lp_comb(self.rightx, self.gc, self.dc6+self.ss, self.sgc)\n",
    "        yc7 = lp_comb(self.rightx, self.gc, self.dc7+self.ss, self.sgc)\n",
    "        yc8 = lp_comb(self.rightx, self.gc, self.dc8+self.ss, self.sgc)\n",
    "\n",
    "        yc_out = yc1 + yc2 + yc3 + yc4 + yc5 + yc6 + yc7 + yc8\n",
    "\n",
    "        yap1 = allpass(yc_out, self.gap, self.dap1+self.ss)\n",
    "        yap2 = allpass(yap1, self.gap, self.dap2+self.ss)\n",
    "        yap3 = allpass(yap2, self.gap, self.dap3+self.ss)\n",
    "        yap4 = allpass(yap2, self.gap, self.dap4+self.ss)\n",
    "\n",
    "\n",
    "        self.ry_final = yap4 + (self.gx*self.rightx)\n",
    "        return self.ry_final\n",
    "    "
   ]
  },
  {
   "cell_type": "code",
   "execution_count": 162,
   "id": "dfd32812",
   "metadata": {},
   "outputs": [
    {
     "name": "stdout",
     "output_type": "stream",
     "text": [
      "<class 'numpy.ndarray'>\n",
      "[1 4 7]\n",
      "[2 5 8]\n"
     ]
    }
   ],
   "source": [
    "x = np.array([[1,2],[4,5],[7,8]])\n",
    "print(type(x))\n",
    "print(x[:,0])\n",
    "print(x[:,1])"
   ]
  },
  {
   "cell_type": "code",
   "execution_count": 163,
   "id": "e286d0c9",
   "metadata": {},
   "outputs": [],
   "source": [
    "test = Freeverb(\n",
    "   'Freeverb', \n",
    "   0.2, #gc\n",
    "   0.84, #sgc \n",
    "   [1557, 1617, 1491, 1422, 1277, 1356, 1188, 1116], #dc\n",
    "   0.5, #gap \n",
    "   [225, 556, 441, 341],#dap \n",
    "   0.7,     #gx\n",
    ")"
   ]
  },
  {
   "cell_type": "code",
   "execution_count": 164,
   "id": "ca9d13d9",
   "metadata": {},
   "outputs": [
    {
     "name": "stdout",
     "output_type": "stream",
     "text": [
      "freeverb\n",
      "1557\n",
      "<class 'float'>\n"
     ]
    }
   ],
   "source": [
    "print(test.kind)\n",
    "print(test.dc1)\n",
    "print(type(test.gx))"
   ]
  },
  {
   "cell_type": "code",
   "execution_count": 165,
   "id": "ccce5a70",
   "metadata": {},
   "outputs": [],
   "source": [
    "test.x = x"
   ]
  },
  {
   "cell_type": "code",
   "execution_count": 166,
   "id": "a67da438",
   "metadata": {},
   "outputs": [
    {
     "data": {
      "text/plain": [
       "array([1., 4., 7.])"
      ]
     },
     "execution_count": 166,
     "metadata": {},
     "output_type": "execute_result"
    }
   ],
   "source": [
    "test.left_rev()"
   ]
  },
  {
   "cell_type": "markdown",
   "id": "88632838",
   "metadata": {},
   "source": [
    "==============================\n",
    "\n",
    "\n",
    "\n",
    "=============================="
   ]
  },
  {
   "cell_type": "code",
   "execution_count": 167,
   "id": "d3705170",
   "metadata": {},
   "outputs": [
    {
     "name": "stderr",
     "output_type": "stream",
     "text": [
      "<ipython-input-167-70d904e2fc83>:2: WavFileWarning: Chunk (non-data) not understood, skipping it.\n",
      "  fs, data = wavfile.read(audiofile)\n"
     ]
    }
   ],
   "source": [
    "audiofile = \"/Users/anniechu/Desktop/twochannel.wav\"\n",
    "fs, data = wavfile.read(audiofile)"
   ]
  },
  {
   "cell_type": "code",
   "execution_count": 168,
   "id": "b9a991ac",
   "metadata": {},
   "outputs": [
    {
     "name": "stdout",
     "output_type": "stream",
     "text": [
      ".Wav Contents = [[ 0  0]\n",
      " [ 0  0]\n",
      " [ 1  2]\n",
      " ...\n",
      " [ 0 -3]\n",
      " [ 0 -9]\n",
      " [ 0 -6]]\n",
      ".Wav Shape = (23493, 2)\n",
      ".Wav Length = 2.936625s\n",
      "Sampling Rate= 8000 Hz\n"
     ]
    }
   ],
   "source": [
    "#checking cb_data contents\n",
    "print(f\".Wav Contents = {data}\")\n",
    "print(f\".Wav Shape = {data.shape}\")\n",
    "length = data.shape[0] / fs\n",
    "print(f\".Wav Length = {length}s\")\n",
    "print(f\"Sampling Rate= {fs} Hz\")\n"
   ]
  },
  {
   "cell_type": "code",
   "execution_count": 183,
   "id": "f68a9854",
   "metadata": {},
   "outputs": [],
   "source": [
    "#playing original sound file\n",
    "play_obj = sa.play_buffer(data, 2, 2, fs)"
   ]
  },
  {
   "cell_type": "code",
   "execution_count": 184,
   "id": "7cddc701",
   "metadata": {},
   "outputs": [],
   "source": [
    "play_obj.stop()"
   ]
  },
  {
   "cell_type": "code",
   "execution_count": 185,
   "id": "6eea3ff5",
   "metadata": {},
   "outputs": [
    {
     "name": "stdout",
     "output_type": "stream",
     "text": [
      "[[ 0  0]\n",
      " [ 0  0]\n",
      " [ 1  2]\n",
      " ...\n",
      " [ 0 -3]\n",
      " [ 0 -9]\n",
      " [ 0 -6]]\n",
      "<class 'numpy.ndarray'>\n"
     ]
    }
   ],
   "source": [
    "print(data)\n",
    "print(type(data))"
   ]
  },
  {
   "cell_type": "code",
   "execution_count": 186,
   "id": "ba3f1f20",
   "metadata": {},
   "outputs": [
    {
     "name": "stdout",
     "output_type": "stream",
     "text": [
      "[[  0   0]\n",
      " [  0   0]\n",
      " [  2   4]\n",
      " ...\n",
      " [  0  -6]\n",
      " [  0 -20]\n",
      " [  0 -13]]\n"
     ]
    }
   ],
   "source": [
    "norm_data =np.int16(data/np.max(np.abs(data)) * 32767)\n",
    "print(norm_data)"
   ]
  },
  {
   "cell_type": "code",
   "execution_count": 187,
   "id": "76976595",
   "metadata": {},
   "outputs": [
    {
     "name": "stdout",
     "output_type": "stream",
     "text": [
      "[0 0 2 ... 0 0 0]\n",
      "[  0   0   4 ...  -6 -20 -13]\n"
     ]
    }
   ],
   "source": [
    "left_data = norm_data[:,0]\n",
    "right_data = norm_data[:,1]\n",
    "\n",
    "print(left_data)\n",
    "print(right_data)"
   ]
  },
  {
   "cell_type": "code",
   "execution_count": 188,
   "id": "79e2f8cc",
   "metadata": {},
   "outputs": [
    {
     "name": "stdout",
     "output_type": "stream",
     "text": [
      "[[ 0  0]\n",
      " [ 0  0]\n",
      " [ 1  2]\n",
      " ...\n",
      " [ 0 -3]\n",
      " [ 0 -9]\n",
      " [ 0 -6]]\n",
      "[0 0 1 ... 0 0 0]\n",
      "[ 0  0  2 ... -3 -9 -6]\n"
     ]
    }
   ],
   "source": [
    "test.x = data\n",
    "print(test.x)\n",
    "print(test.x[:,0])\n",
    "print(test.x[:,1])"
   ]
  },
  {
   "cell_type": "code",
   "execution_count": 189,
   "id": "55df7e03",
   "metadata": {},
   "outputs": [],
   "source": [
    "#adding reverb to left channel\n",
    "rv_left = test.left_rev()\n",
    "rv_right = test.right_rev()"
   ]
  },
  {
   "cell_type": "code",
   "execution_count": 190,
   "id": "6dd270ce",
   "metadata": {},
   "outputs": [
    {
     "name": "stdout",
     "output_type": "stream",
     "text": [
      "L | ORIGINAL = 23493 | [0 0 2 ... 0 0 0]\n",
      "L | REVERBED = 23493 | [  0   0   0 ... 325 198 143]\n",
      "R | ORIGINAL = 23493 | [  0   0   4 ...  -6 -20 -13]\n",
      "R | REVERBED = 23493 | [    0     0     1 ... -1823  -903    82]\n"
     ]
    }
   ],
   "source": [
    "#normalizing left channel to 16 bit\n",
    "rv_left_data = np.int16(rv_left/np.max(np.abs(rv_left)) * 32767)\n",
    "rv_right_data = np.int16(rv_right/np.max(np.abs(rv_right)) * 32767)\n",
    "\n",
    "#checking original vs reverbed left array\n",
    "print(f\"L | ORIGINAL = {len(left_data)} | {left_data}\")\n",
    "print(f\"L | REVERBED = {len(rv_left_data)} | {rv_left_data}\")\n",
    "print(f\"R | ORIGINAL = {len(right_data)} | {right_data}\")\n",
    "print(f\"R | REVERBED = {len(rv_right_data)} | {rv_right_data}\")"
   ]
  },
  {
   "cell_type": "code",
   "execution_count": 191,
   "id": "ab46e01a",
   "metadata": {},
   "outputs": [
    {
     "name": "stdout",
     "output_type": "stream",
     "text": [
      "[[    0     0]\n",
      " [    0     0]\n",
      " [    0     1]\n",
      " ...\n",
      " [  325 -1823]\n",
      " [  198  -903]\n",
      " [  143    82]]\n"
     ]
    }
   ],
   "source": [
    "rv_data = np.stack((rv_left_data, rv_right_data), axis=-1)\n",
    "print(rv_data)"
   ]
  },
  {
   "cell_type": "markdown",
   "id": "d06d7c70",
   "metadata": {},
   "source": [
    "#### Audio Comparison: Original vs FREEVERBed version"
   ]
  },
  {
   "cell_type": "code",
   "execution_count": 199,
   "id": "1c8f009a",
   "metadata": {},
   "outputs": [],
   "source": [
    "#original\n",
    "play_obj = sa.play_buffer(data, 2, 2, fs)"
   ]
  },
  {
   "cell_type": "code",
   "execution_count": 200,
   "id": "a06d1be6",
   "metadata": {},
   "outputs": [],
   "source": [
    "play_obj.stop()"
   ]
  },
  {
   "cell_type": "code",
   "execution_count": 202,
   "id": "4460b628",
   "metadata": {},
   "outputs": [],
   "source": [
    "#reverbed\n",
    "play_obj = sa.play_buffer(rv_data, 2, 2, fs)"
   ]
  },
  {
   "cell_type": "code",
   "execution_count": 195,
   "id": "15775d7f",
   "metadata": {},
   "outputs": [],
   "source": [
    "play_obj.stop()"
   ]
  },
  {
   "cell_type": "code",
   "execution_count": 196,
   "id": "429bb951",
   "metadata": {},
   "outputs": [
    {
     "data": {
      "image/png": "[encoded data removed]",
      "text/plain": [
       "<Figure size 960x480 with 1 Axes>"
      ]
     },
     "metadata": {
      "needs_background": "light"
     },
     "output_type": "display_data"
    }
   ],
   "source": [
    "figure(figsize=(12, 6), dpi=80)\n",
    "time = np.linspace(0., length, data.shape[0])\n",
    "plt.plot(time, rv_left_data, label=\"reverbed\")\n",
    "plt.plot(time, left_data, label=\"original\")\n",
    "plt.xlim(0, 3)\n",
    "plt.legend()\n",
    "plt.xlabel(\"Time [s]\")\n",
    "plt.ylabel(\"Amplitude\")\n",
    "plt.title(\"Left Channel: Original vs Reverbed\")\n",
    "plt.show()"
   ]
  },
  {
   "cell_type": "code",
   "execution_count": 197,
   "id": "74c3de96",
   "metadata": {},
   "outputs": [
    {
     "data": {
      "image/png": "[encoded data removed]",
      "text/plain": [
       "<Figure size 960x480 with 1 Axes>"
      ]
     },
     "metadata": {
      "needs_background": "light"
     },
     "output_type": "display_data"
    }
   ],
   "source": [
    "figure(figsize=(12, 6), dpi=80)\n",
    "time = np.linspace(0., length, data.shape[0])\n",
    "plt.plot(time, rv_right_data, label=\"reverbed\")\n",
    "plt.plot(time, right_data, label=\"original\")\n",
    "plt.xlim(0, 3)\n",
    "plt.legend()\n",
    "plt.xlabel(\"Time [s]\")\n",
    "plt.ylabel(\"Amplitude\")\n",
    "plt.title(\"Left Channel: Original vs Reverbed\")\n",
    "plt.show()"
   ]
  },
  {
   "cell_type": "code",
   "execution_count": null,
   "id": "cec6652f",
   "metadata": {},
   "outputs": [],
   "source": []
  },
  {
   "cell_type": "code",
   "execution_count": null,
   "id": "852d7665",
   "metadata": {},
   "outputs": [],
   "source": []
  }
 ],
 "metadata": {
  "kernelspec": {
   "display_name": "Python 3",
   "language": "python",
   "name": "python3"
  },
  "language_info": {
   "codemirror_mode": {
    "name": "ipython",
    "version": 3
   },
   "file_extension": ".py",
   "mimetype": "text/x-python",
   "name": "python",
   "nbconvert_exporter": "python",
   "pygments_lexer": "ipython3",
   "version": "3.8.8"
  }
 },
 "nbformat": 4,
 "nbformat_minor": 5
}
