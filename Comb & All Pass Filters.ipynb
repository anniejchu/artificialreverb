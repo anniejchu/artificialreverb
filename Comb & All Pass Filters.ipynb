{
 "cells": [
  {
   "cell_type": "markdown",
   "id": "b925c471",
   "metadata": {},
   "source": [
    "## Comb & All Pass Filters\n",
    "#### Annie Chu | October 2022"
   ]
  },
  {
   "cell_type": "code",
   "execution_count": 1,
   "id": "da033796",
   "metadata": {},
   "outputs": [],
   "source": [
    "import numpy as np\n",
    "import matplotlib as mpl\n",
    "import matplotlib.pyplot as plt\n",
    "from scipy import signal"
   ]
  },
  {
   "cell_type": "markdown",
   "id": "de0c270d",
   "metadata": {},
   "source": [
    "### METHOD 1: USING SCIPY'S FILTER FUNCTION"
   ]
  },
  {
   "cell_type": "code",
   "execution_count": null,
   "id": "eafcd6ec",
   "metadata": {},
   "outputs": [],
   "source": [
    "#FEEDFORWARD COMB FILTER: TF = [1 + a*z^-k]"
   ]
  },
  {
   "cell_type": "code",
   "execution_count": null,
   "id": "1b250643",
   "metadata": {},
   "outputs": [],
   "source": [
    "f0 = 30.0  # Frequency to be removed from signal (Hz)\n",
    "fs = f0*10  # sampling freq\n",
    "Q = 30.0  # Quality factor\n",
    "\n",
    "# Design notching comb filter\n",
    "num, den = signal.iircomb(f0, Q, ftype='notch', fs=fs)\n",
    "#print(num, den)"
   ]
  },
  {
   "cell_type": "code",
   "execution_count": null,
   "id": "0bd8fc26",
   "metadata": {},
   "outputs": [],
   "source": [
    "sys = signal.TransferFunction(num, den) #initializing transfer function: not necessary\n",
    "#print(sys) "
   ]
  },
  {
   "cell_type": "code",
   "execution_count": null,
   "id": "169b5e75",
   "metadata": {},
   "outputs": [],
   "source": [
    "#plot step response of transfer function\n",
    "time, response = signal.step(sys)\n",
    "plt.plot(time,response,label=\"Impulse of FF Comb\")\n",
    "plt.show()"
   ]
  },
  {
   "cell_type": "code",
   "execution_count": null,
   "id": "ad0899c6",
   "metadata": {},
   "outputs": [],
   "source": [
    "#creating freq & magnitude vector for plotting\n",
    "freq, resp = signal.freqz(num, den, fs=fs)\n",
    "response = abs(resp)\n",
    "# To avoid divide by zero when graphing\n",
    "response[response == 0] = 1e-20\n",
    "# Plot\n",
    "plt.plot(freq, response)\n",
    "plt.show()\n",
    "\n",
    "# angles = np.unwrap(np.angle(h))\n",
    "# plt.plot(w/max(w), angles, 'g')\n",
    "# plt.ylabel('phase (radians)', color='g')\n",
    "# plt.xlabel(r'normalized frequency (x$\\pi$rad/sample)')\n",
    "# plt.show()"
   ]
  },
  {
   "cell_type": "code",
   "execution_count": null,
   "id": "50b0ac97",
   "metadata": {},
   "outputs": [],
   "source": [
    "#FEEDBACK COMB FILTER: z^{-\\tau}/1-gz^{-\\tau}"
   ]
  },
  {
   "cell_type": "code",
   "execution_count": null,
   "id": "deb8b949",
   "metadata": {},
   "outputs": [],
   "source": [
    "num_fb, den_fb = signal.iircomb(f0, Q, ftype='peak', fs=fs)\n",
    "freq, resp = signal.freqz(num_fb, den_fb, fs=fs)\n",
    "response = abs(resp)\n",
    "# To avoid divide by zero when graphing\n",
    "response[response == 0] = 1e-20\n",
    "# Plot\n",
    "plt.plot(freq, response)\n",
    "plt.show()\n",
    "\n",
    "# angles = np.unwrap(np.angle(response))\n",
    "# plt.plot(freq/max(freq), angles, 'g')\n",
    "# plt.ylabel('phase (radians)', color='g')\n",
    "# plt.xlabel(r'normalized frequency (x$\\pi$rad/sample)')\n",
    "# plt.show()"
   ]
  },
  {
   "cell_type": "code",
   "execution_count": null,
   "id": "c79158bf",
   "metadata": {},
   "outputs": [],
   "source": [
    "print(num_fb)"
   ]
  },
  {
   "cell_type": "code",
   "execution_count": null,
   "id": "f43cc9b7",
   "metadata": {},
   "outputs": [],
   "source": [
    "print(den_fb)"
   ]
  },
  {
   "cell_type": "markdown",
   "id": "2e6d21c3",
   "metadata": {},
   "source": [
    "### METHOD 2: TRANSFER FUNCTIONS\n",
    "\n",
    "https://en.wikipedia.org/wiki/Comb_filter\n",
    "Confused how to input f0"
   ]
  },
  {
   "cell_type": "code",
   "execution_count": null,
   "id": "64deb88d",
   "metadata": {},
   "outputs": [],
   "source": [
    "# FEEDBACK H(F) METHOD: z^{-\\tau}/1-gz^{-\\tau}\n",
    "fs = 300\n",
    "g = 0.9;\n",
    "\n",
    "def fb_comb_tf(k, g ): # k= delay\n",
    "    den = np.zeros(k+1)\n",
    "    num = np.zeros(k+1)\n",
    "    den[0] = 1\n",
    "    num[len(num)-1] = 1\n",
    "    den[len(den)-1] = g;\n",
    "    #print(num, den)\n",
    "    return num, den\n",
    "\n",
    "#B = [0, 0, 0, 0, 0, 0, 1]; \n",
    "#A = [1, 0, 0, 0, 0, 0, g];\n",
    "\n",
    "#magnitude and phase response\n",
    "B, A = fb_comb_tf(6, 0.9);\n",
    "w, h = signal.freqz(B,A, fs = fs);\n",
    "\n",
    "h = abs(h);\n",
    "h[h==0] = 1e-20\n",
    "plt.plot(w, h)\n",
    "plt.show()\n",
    "\n",
    "# angles = np.unwrap(np.angle(h))\n",
    "# plt.plot(w, angles, 'g')\n",
    "# plt.ylabel('phase (radians)', color='g')\n",
    "# plt.xlabel(r'normalized frequency (x$\\pi$rad/sample)')\n",
    "# plt.show()"
   ]
  },
  {
   "cell_type": "code",
   "execution_count": null,
   "id": "e030ec01",
   "metadata": {},
   "outputs": [],
   "source": [
    "def ff_comb_tf(k, g): # k= delay\n",
    "    den = np.zeros(k+1)\n",
    "    num = np.zeros(k+1)\n",
    "    num[0] = 1\n",
    "    num[len(num)-1] = -g\n",
    "    den[0] = 1\n",
    "    #print(num, den)\n",
    "    return num, den\n",
    "fs = 100;\n",
    "b, a = ff_comb_tf(5, 0.9)\n",
    "w, h = signal.freqz(b,a, fs = fs); #looks like filtered out is 5 * f0 (desired filteres freq)\n",
    "h = abs(h);\n",
    "h[h==0] = 1e-20;\n",
    "plt.plot(w, h)\n",
    "plt.show()\n",
    "\n",
    "# angles = np.unwrap(np.angle(h))\n",
    "# plt.plot(w/max(w), angles, 'g')\n",
    "# plt.ylabel('phase (radians)', color='g')\n",
    "# plt.xlabel(r'normalized frequency (x$\\pi$rad/sample)')\n",
    "# plt.show()"
   ]
  },
  {
   "cell_type": "code",
   "execution_count": null,
   "id": "46fcc0b6",
   "metadata": {},
   "outputs": [],
   "source": [
    "'''\n",
    "SAME AS ABOVE, JUST WITHOUT FUNCTION\n",
    "'''\n",
    "# FEEDFORWARD H(F) METHOD: 1+ gz^{-\\tau}\n",
    "g = 0.9;\n",
    "B = [1, 0, 0, 0, 0, -g]; \n",
    "A = [1, 0, 0, 0, 0, 0];\n",
    "#magnitude and phase response\n",
    "w, h = signal.freqz(B,A, fs = 100); #looks like filtered out is 5 * f0 (desired filteres freq)\n",
    "h = abs(h);\n",
    "h[h==0] = 1e-20;\n",
    "plt.plot(w, h)\n",
    "plt.show()"
   ]
  },
  {
   "cell_type": "markdown",
   "id": "642f6293",
   "metadata": {},
   "source": [
    "### ALL PASS FILTER\n",
    "https://sevagh.github.io/warped-linear-prediction/First-order%20all-pass%20filter.html"
   ]
  },
  {
   "cell_type": "code",
   "execution_count": null,
   "id": "879f8c24",
   "metadata": {},
   "outputs": [],
   "source": [
    "import numpy as np\n",
    "import matplotlib as mpl\n",
    "import matplotlib.pyplot as plt\n",
    "from scipy import signal"
   ]
  },
  {
   "cell_type": "code",
   "execution_count": null,
   "id": "5d5b7ab0",
   "metadata": {},
   "outputs": [],
   "source": [
    "#first order\n",
    "#transfer function: [z^-1 - lambda]/[1-lambda*z^-1]\n",
    "#where lambda = complex pole -- what does this mean\n",
    "#assuming lambda = 0 in this model\n",
    "lam = 0; \n",
    "num_ap = [lam, 1]\n",
    "den_ap = [1, lam]\n",
    "\n",
    "w, h = signal.freqz(num_ap, den_ap)"
   ]
  },
  {
   "cell_type": "code",
   "execution_count": null,
   "id": "377770b5",
   "metadata": {},
   "outputs": [],
   "source": [
    "plt.title('frequency response of unit delay')\n",
    "plt.plot(w/max(w), 20 * np.log10(abs(h)), 'b')\n",
    "plt.ylim(-1, 1)\n",
    "plt.ylabel('amplitude (dB)', color='b')\n",
    "plt.xlabel(r'normalized frequency (x$\\pi$rad/sample)')\n",
    "plt.show()"
   ]
  },
  {
   "cell_type": "code",
   "execution_count": null,
   "id": "e5ad11aa",
   "metadata": {},
   "outputs": [],
   "source": [
    "angles = np.unwrap(np.angle(h))\n",
    "plt.plot(w/max(w), angles, 'g')\n",
    "plt.ylabel('phase (radians)', color='g')\n",
    "plt.xlabel(r'normalized frequency (x$\\pi$rad/sample)')\n",
    "plt.show()"
   ]
  },
  {
   "cell_type": "code",
   "execution_count": 30,
   "id": "06763a4c",
   "metadata": {},
   "outputs": [
    {
     "name": "stdout",
     "output_type": "stream",
     "text": [
      "[1.  0.6 0.2]\n",
      "[2.  1.2 0.4]\n"
     ]
    }
   ],
   "source": [
    "# feedback comb filter\n",
    "\n",
    "def comb(x_n, g, d):\n",
    "    # x_n is numpy array of initial samples\n",
    "    y_n = np.zeros(len(x_n));\n",
    "    for i in range(len(x_n)):\n",
    "        if i-d < 0:\n",
    "            y_n[i] = x_n[i]\n",
    "        else:\n",
    "            y_n[i] = x_n[i] + g*y_n[i-d]\n",
    "    return y_n\n",
    "\n",
    "x1 = np.array([1.0, 0.1, -0.1])\n",
    "\n",
    "y1 = comb(x1, 0.5, 1)\n",
    "y2 = comb(x1, 0.5, 1)\n",
    "\n",
    "print(y1)\n",
    "print(y1+y2)"
   ]
  },
  {
   "cell_type": "code",
   "execution_count": 31,
   "id": "a445718b",
   "metadata": {},
   "outputs": [
    {
     "data": {
      "text/plain": [
       "array([ 0.5 ,  0.8 , -0.35])"
      ]
     },
     "execution_count": 31,
     "metadata": {},
     "output_type": "execute_result"
    }
   ],
   "source": [
    "def allpass(x_n, g, d):\n",
    "    # x_n is numpy array of initial samples\n",
    "    y_n = np.zeros(len(x_n));\n",
    "    for i in range(len(x_n)):\n",
    "        if i-d < 0:\n",
    "            y_n[i] = g*x_n[i]\n",
    "        else:\n",
    "            y_n[i] = g*x_n[i] + x_n[i-d] - g*y_n[i-d]\n",
    "    return y_n\n",
    "\n",
    "x1 = np.array([1.0, 0.1, -0.1])\n",
    "\n",
    "allpass(x1, 0.5, 1)"
   ]
  },
  {
   "cell_type": "code",
   "execution_count": 32,
   "id": "e863b1fc",
   "metadata": {},
   "outputs": [
    {
     "name": "stdout",
     "output_type": "stream",
     "text": [
      "[ 1.   0.1 -0.1]\n",
      "[ 2.072   0.2072 -0.2072]\n"
     ]
    }
   ],
   "source": [
    "x = np.array([1.0, 0.1, -0.1]) #input signal\n",
    "\n",
    "def schroeder(x):\n",
    "    yc1 = comb(x, 0.805, 901) \n",
    "    yc2 = comb(x, 0.827, 778)\n",
    "    yc3 = comb(x, 0.783, 1011)\n",
    "    yc4 = comb(x, 0.764, 1123)\n",
    "\n",
    "    yc_out = yc1 + yc2 + yc3 + yc4\n",
    "    yap1 = allpass(yc_out, 0.7, 125)\n",
    "    yap2 = allpass(yap1, 0.7, 42)\n",
    "    yap3 = allpass(yap2, 0.7, 12)\n",
    "    y_final = yap3 + 0.7*x\n",
    "    return y_final\n",
    "\n",
    "print(x)\n",
    "print(schroeder(x))\n",
    "\n",
    "\n",
    "\n"
   ]
  },
  {
   "cell_type": "code",
   "execution_count": 33,
   "id": "65c4ee05",
   "metadata": {},
   "outputs": [],
   "source": [
    "from os.path import dirname, join as pjoin\n",
    "from scipy.io import wavfile\n",
    "import scipy.io\n",
    "#samplerate, data = wavfile.read('./output/audio.wav')"
   ]
  },
  {
   "cell_type": "code",
   "execution_count": 34,
   "id": "832f043d",
   "metadata": {},
   "outputs": [
    {
     "name": "stdout",
     "output_type": "stream",
     "text": [
      "length = 0.01s\n",
      "number of channels = 2\n"
     ]
    }
   ],
   "source": [
    "#testing with internal wav file\n",
    "data_dir = pjoin(dirname(scipy.io.__file__), 'tests', 'data')\n",
    "wav_fname = pjoin(data_dir, 'test-44100Hz-2ch-32bit-float-be.wav')\n",
    "samplerate, data = wavfile.read(wav_fname)\n",
    "length = data.shape[0] / samplerate\n",
    "print(f\"length = {length}s\")\n",
    "print(f\"number of channels = {data.shape[1]}\")"
   ]
  },
  {
   "cell_type": "code",
   "execution_count": 35,
   "id": "fc5dd232",
   "metadata": {},
   "outputs": [
    {
     "data": {
      "image/png": "[encoded data removed]",
      "text/plain": [
       "<Figure size 432x288 with 1 Axes>"
      ]
     },
     "metadata": {
      "needs_background": "light"
     },
     "output_type": "display_data"
    }
   ],
   "source": [
    "time = np.linspace(0., length, data.shape[0])\n",
    "dleft = data[:, 0]\n",
    "dright = data[:, 1]\n",
    "rv_dleft = schroeder(dleft)\n",
    "rv_dright = schroeder(dright)\n",
    "plt.plot(time, dleft, label=\"Left channel\")\n",
    "plt.plot(time, dright, label=\"Right channel\")\n",
    "plt.plot(time, rv_dleft, label=\"Left RV\")\n",
    "plt.plot(time, rv_dright, label=\"Right RV\")\n",
    "plt.legend()\n",
    "plt.xlabel(\"Time [s]\")\n",
    "plt.ylabel(\"Amplitude\")\n",
    "plt.show()"
   ]
  },
  {
   "cell_type": "code",
   "execution_count": 36,
   "id": "29bbe4cb",
   "metadata": {},
   "outputs": [
    {
     "name": "stdout",
     "output_type": "stream",
     "text": [
      "[[ 0.          0.        ]\n",
      " [ 0.05011868  0.05011868]\n",
      " [ 0.10004044  0.10004044]\n",
      " [ 0.14956915  0.14956915]\n",
      " [ 0.19851029  0.19851029]\n",
      " [ 0.24667156  0.24667156]\n",
      " [ 0.29386377  0.29386377]\n",
      " [ 0.33990133  0.33990133]\n",
      " [ 0.38460374  0.38460374]\n",
      " [ 0.42779493  0.42779493]\n",
      " [ 0.46930563  0.46930563]\n",
      " [ 0.5089725   0.5089725 ]\n",
      " [ 0.5466399   0.5466399 ]\n",
      " [ 0.58215964  0.58215964]\n",
      " [ 0.6153922   0.6153922 ]\n",
      " [ 0.6462072   0.6462072 ]\n",
      " [ 0.6744834   0.6744834 ]\n",
      " [ 0.70010984  0.70010984]\n",
      " [ 0.72298574  0.72298574]\n",
      " [ 0.74302125  0.74302125]\n",
      " [ 0.7601378   0.7601378 ]\n",
      " [ 0.7742679   0.7742679 ]\n",
      " [ 0.78535604  0.78535604]\n",
      " [ 0.79335904  0.79335904]\n",
      " [ 0.79824495  0.79824495]\n",
      " [ 0.79999495  0.79999495]\n",
      " [ 0.798602    0.798602  ]\n",
      " [ 0.7940717   0.7940717 ]\n",
      " [ 0.78642166  0.78642166]\n",
      " [ 0.775682    0.775682  ]\n",
      " [ 0.76189494  0.76189494]\n",
      " [ 0.7451147   0.7451147 ]\n",
      " [ 0.7254071   0.7254071 ]\n",
      " [ 0.7028496   0.7028496 ]\n",
      " [ 0.677531    0.677531  ]\n",
      " [ 0.64955044  0.64955044]\n",
      " [ 0.6190181   0.6190181 ]\n",
      " [ 0.5860537   0.5860537 ]\n",
      " [ 0.5507871   0.5507871 ]\n",
      " [ 0.51335645  0.51335645]\n",
      " [ 0.47390914  0.47390914]\n",
      " [ 0.4325999   0.4325999 ]\n",
      " [ 0.3895911   0.3895911 ]\n",
      " [ 0.34505177  0.34505177]\n",
      " [ 0.29915679  0.29915679]\n",
      " [ 0.25208664  0.25208664]\n",
      " [ 0.20402598  0.20402598]\n",
      " [ 0.15516388  0.15516388]\n",
      " [ 0.10569215  0.10569215]\n",
      " [ 0.05580521  0.05580521]\n",
      " [ 0.00569904  0.00569904]\n",
      " [-0.04442954 -0.04442954]\n",
      " [-0.0943836  -0.0943836 ]\n",
      " [-0.1439668  -0.1439668 ]\n",
      " [-0.19298446 -0.19298446]\n",
      " [-0.24124396 -0.24124396]\n",
      " [-0.28855562 -0.28855562]\n",
      " [-0.3347336  -0.3347336 ]\n",
      " [-0.3795966  -0.3795966 ]\n",
      " [-0.4229684  -0.4229684 ]\n",
      " [-0.4646783  -0.4646783 ]\n",
      " [-0.50456274 -0.50456274]\n",
      " [-0.54246485 -0.54246485]\n",
      " [-0.57823586 -0.57823586]\n",
      " [-0.6117351  -0.6117351 ]\n",
      " [-0.6428311  -0.6428311 ]\n",
      " [-0.6714016  -0.6714016 ]\n",
      " [-0.6973344  -0.6973344 ]\n",
      " [-0.72052765 -0.72052765]\n",
      " [-0.74089015 -0.74089015]\n",
      " [-0.7583419  -0.7583419 ]\n",
      " [-0.7728144  -0.7728144 ]\n",
      " [-0.78425074 -0.78425074]\n",
      " [-0.792606   -0.792606  ]\n",
      " [-0.7978474  -0.7978474 ]\n",
      " [-0.7999543  -0.7999543 ]\n",
      " [-0.7989185  -0.7989185 ]\n",
      " [-0.7947439  -0.7947439 ]\n",
      " [-0.7874471  -0.7874471 ]\n",
      " [-0.7770567  -0.7770567 ]\n",
      " [-0.76361346 -0.76361346]\n",
      " [-0.7471702  -0.7471702 ]\n",
      " [-0.72779167 -0.72779167]\n",
      " [-0.70555377 -0.70555377]\n",
      " [-0.680544   -0.680544  ]\n",
      " [-0.65286064 -0.65286064]\n",
      " [-0.62261236 -0.62261236]\n",
      " [-0.58991814 -0.58991814]\n",
      " [-0.55490625 -0.55490625]\n",
      " [-0.51771426 -0.51771426]\n",
      " [-0.47848845 -0.47848845]\n",
      " [-0.4373827  -0.4373827 ]\n",
      " [-0.39455867 -0.39455867]\n",
      " [-0.35018456 -0.35018456]\n",
      " [-0.30443466 -0.30443466]\n",
      " [-0.25748873 -0.25748873]\n",
      " [-0.2095313  -0.2095313 ]\n",
      " [-0.16075063 -0.16075063]\n",
      " [-0.1113385  -0.1113385 ]\n",
      " [-0.06148887 -0.06148887]\n",
      " [-0.0113976  -0.0113976 ]\n",
      " [ 0.03873825  0.03873825]\n",
      " [ 0.08872211  0.08872211]\n",
      " [ 0.13835728  0.13835728]\n",
      " [ 0.18744898  0.18744898]\n",
      " [ 0.2358042   0.2358042 ]\n",
      " [ 0.28323305  0.28323305]\n",
      " [ 0.32954907  0.32954907]\n",
      " [ 0.3745705   0.3745705 ]\n",
      " [ 0.41812038  0.41812038]\n",
      " [ 0.46002758  0.46002758]\n",
      " [ 0.50012743  0.50012743]\n",
      " [ 0.5382625   0.5382625 ]\n",
      " [ 0.5742829   0.5742829 ]\n",
      " [ 0.6080471   0.6080471 ]\n",
      " [ 0.63942254  0.63942254]\n",
      " [ 0.66828585  0.66828585]\n",
      " [ 0.6945238   0.6945238 ]\n",
      " [ 0.7180331   0.7180331 ]\n",
      " [ 0.7387214   0.7387214 ]\n",
      " [ 0.75650764  0.75650764]\n",
      " [ 0.7713218   0.7713218 ]\n",
      " [ 0.7831056   0.7831056 ]\n",
      " [ 0.7918129   0.7918129 ]\n",
      " [ 0.7974094   0.7974094 ]\n",
      " [ 0.7998731   0.7998731 ]\n",
      " [ 0.79919446  0.79919446]\n",
      " [ 0.79537606  0.79537606]\n",
      " [ 0.78843284  0.78843284]\n",
      " [ 0.7783921   0.7783921 ]\n",
      " [ 0.76529336  0.76529336]\n",
      " [ 0.74918795  0.74918795]\n",
      " [ 0.7301394   0.7301394 ]\n",
      " [ 0.70822215  0.70822215]\n",
      " [ 0.6835227   0.6835227 ]\n",
      " [ 0.6561378   0.6561378 ]\n",
      " [ 0.6261753   0.6261753 ]\n",
      " [ 0.5937526   0.5937526 ]\n",
      " [ 0.5589974   0.5589974 ]\n",
      " [ 0.52204597  0.52204597]\n",
      " [ 0.48304355  0.48304355]\n",
      " [ 0.44214344  0.44214344]\n",
      " [ 0.39950645  0.39950645]\n",
      " [ 0.3552997   0.3552997 ]\n",
      " [ 0.30969727  0.30969727]\n",
      " [ 0.26287806  0.26287806]\n",
      " [ 0.21502614  0.21502614]\n",
      " [ 0.16632938  0.16632938]\n",
      " [ 0.11697924  0.11697924]\n",
      " [ 0.06716943  0.06716943]\n",
      " [ 0.0170958   0.0170958 ]\n",
      " [-0.03304493 -0.03304493]\n",
      " [-0.08305597 -0.08305597]\n",
      " [-0.13274062 -0.13274062]\n",
      " [-0.18190384 -0.18190384]\n",
      " [-0.23035228 -0.23035228]\n",
      " [-0.27789593 -0.27789593]\n",
      " [-0.32434762 -0.32434762]\n",
      " [-0.3695252  -0.3695252 ]\n",
      " [-0.41325104 -0.41325104]\n",
      " [-0.45535326 -0.45535326]\n",
      " [-0.49566662 -0.49566662]\n",
      " [-0.5340327  -0.5340327 ]\n",
      " [-0.5703007  -0.5703007 ]\n",
      " [-0.60432816 -0.60432816]\n",
      " [-0.63598144 -0.63598144]\n",
      " [-0.6651361  -0.6651361 ]\n",
      " [-0.6916777  -0.6916777 ]\n",
      " [-0.7155019  -0.7155019 ]\n",
      " [-0.73651516 -0.73651516]\n",
      " [-0.75463486 -0.75463486]\n",
      " [-0.7697898  -0.7697898 ]\n",
      " [-0.7819207  -0.7819207 ]\n",
      " [-0.7909795  -0.7909795 ]\n",
      " [-0.7969309  -0.7969309 ]\n",
      " [-0.7997513  -0.7997513 ]\n",
      " [-0.7994298  -0.7994298 ]\n",
      " [-0.7959677  -0.7959677 ]\n",
      " [-0.7893784  -0.7893784 ]\n",
      " [-0.7796879  -0.7796879 ]\n",
      " [-0.7669343  -0.7669343 ]\n",
      " [-0.75116765 -0.75116765]\n",
      " [-0.7324499  -0.7324499 ]\n",
      " [-0.71085453 -0.71085453]\n",
      " [-0.6864666  -0.6864666 ]\n",
      " [-0.6593816  -0.6593816 ]\n",
      " [-0.62970626 -0.62970626]\n",
      " [-0.59755695 -0.59755695]\n",
      " [-0.5630599  -0.5630599 ]\n",
      " [-0.526351   -0.526351  ]\n",
      " [-0.4875741  -0.4875741 ]\n",
      " [-0.44688165 -0.44688165]\n",
      " [-0.40443373 -0.40443373]\n",
      " [-0.36039674 -0.36039674]\n",
      " [-0.3149439  -0.3149439 ]\n",
      " [-0.2682538  -0.2682538 ]\n",
      " [-0.22050989 -0.22050989]\n",
      " [-0.17189956 -0.17189956]\n",
      " [-0.12261391 -0.12261391]\n",
      " [-0.07284653 -0.07284653]\n",
      " [-0.02279305 -0.02279305]\n",
      " [ 0.02735007  0.02735007]\n",
      " [ 0.07738566  0.07738566]\n",
      " [ 0.12711728  0.12711728]\n",
      " [ 0.17634952  0.17634952]\n",
      " [ 0.22488892  0.22488892]\n",
      " [ 0.27254486  0.27254486]\n",
      " [ 0.31912994  0.31912994]\n",
      " [ 0.3644613   0.3644613 ]\n",
      " [ 0.40836084  0.40836084]\n",
      " [ 0.45065606  0.45065606]\n",
      " [ 0.4911809   0.4911809 ]\n",
      " [ 0.52977586  0.52977586]\n",
      " [ 0.56628966  0.56628966]\n",
      " [ 0.60057855  0.60057855]\n",
      " [ 0.63250804  0.63250804]\n",
      " [ 0.66195273  0.66195273]\n",
      " [ 0.68879664  0.68879664]\n",
      " [ 0.7129346   0.7129346 ]\n",
      " [ 0.73427165  0.73427165]\n",
      " [ 0.75272393  0.75272393]\n",
      " [ 0.7682191   0.7682191 ]\n",
      " [ 0.78069615  0.78069615]\n",
      " [ 0.79010606  0.79010606]\n",
      " [ 0.796412    0.796412  ]\n",
      " [ 0.79958904  0.79958904]\n",
      " [ 0.7996247   0.7996247 ]\n",
      " [ 0.79651904  0.79651904]\n",
      " [ 0.79028404  0.79028404]\n",
      " [ 0.7809442   0.7809442 ]\n",
      " [ 0.7685363   0.7685363 ]\n",
      " [ 0.7531092   0.7531092 ]\n",
      " [ 0.7347233   0.7347233 ]\n",
      " [ 0.7134509   0.7134509 ]\n",
      " [ 0.68937564  0.68937564]\n",
      " [ 0.66259205  0.66259205]\n",
      " [ 0.6332053   0.6332053 ]\n",
      " [ 0.601331    0.601331  ]\n",
      " [ 0.5670941   0.5670941 ]\n",
      " [ 0.5306294   0.5306294 ]\n",
      " [ 0.49207997  0.49207997]\n",
      " [ 0.45159745  0.45159745]\n",
      " [ 0.40934062  0.40934062]\n",
      " [ 0.36547565  0.36547565]\n",
      " [ 0.3201748   0.3201748 ]\n",
      " [ 0.2736162   0.2736162 ]\n",
      " [ 0.22598255  0.22598255]\n",
      " [ 0.17746115  0.17746115]\n",
      " [ 0.1282425   0.1282425 ]\n",
      " [ 0.07852006  0.07852006]\n",
      " [ 0.02848923  0.02848923]\n",
      " [-0.02165365 -0.02165365]\n",
      " [-0.07171142 -0.07171142]\n",
      " [-0.1214875  -0.1214875 ]\n",
      " [-0.17078614 -0.17078614]\n",
      " [-0.219414   -0.219414  ]\n",
      " [-0.26717973 -0.26717973]\n",
      " [-0.31389582 -0.31389582]\n",
      " [-0.3593788  -0.3593788 ]\n",
      " [-0.40344977 -0.40344977]\n",
      " [-0.44593585 -0.44593585]\n",
      " [-0.4866699  -0.4866699 ]\n",
      " [-0.5254921  -0.5254921 ]\n",
      " [-0.56224966 -0.56224966]\n",
      " [-0.5967984  -0.5967984 ]\n",
      " [-0.6290026  -0.6290026 ]\n",
      " [-0.6587355  -0.6587355 ]\n",
      " [-0.68588054 -0.68588054]\n",
      " [-0.71033096 -0.71033096]\n",
      " [-0.7319907  -0.7319907 ]\n",
      " [-0.75077474 -0.75077474]\n",
      " [-0.7666092  -0.7666092 ]\n",
      " [-0.77943194 -0.77943194]\n",
      " [-0.78919244 -0.78919244]\n",
      " [-0.79585254 -0.79585254]\n",
      " [-0.799386   -0.799386  ]\n",
      " [-0.79977894 -0.79977894]\n",
      " [-0.79702985 -0.79702985]\n",
      " [-0.7911494  -0.7911494 ]\n",
      " [-0.78216076 -0.78216076]\n",
      " [-0.7700994  -0.7700994 ]\n",
      " [-0.7550125  -0.7550125 ]\n",
      " [-0.73695934 -0.73695934]\n",
      " [-0.71601105 -0.71601105]\n",
      " [-0.69224966 -0.69224966]\n",
      " [-0.66576874 -0.66576874]\n",
      " [-0.63667214 -0.63667214]\n",
      " [-0.6050744  -0.6050744 ]\n",
      " [-0.5710994  -0.5710994 ]\n",
      " [-0.53488076 -0.53488076]\n",
      " [-0.4965608  -0.4965608 ]\n",
      " [-0.45629    -0.45629   ]\n",
      " [-0.41422653 -0.41422653]\n",
      " [-0.37053573 -0.37053573]\n",
      " [-0.32538927 -0.32538927]\n",
      " [-0.2789644  -0.2789644 ]\n",
      " [-0.23144364 -0.23144364]\n",
      " [-0.18301356 -0.18301356]\n",
      " [-0.13386452 -0.13386452]\n",
      " [-0.08418953 -0.08418953]\n",
      " [-0.03418374 -0.03418374]\n",
      " [ 0.01595628  0.01595628]\n",
      " [ 0.0660336   0.0660336 ]\n",
      " [ 0.11585152  0.11585152]\n",
      " [ 0.1652143   0.1652143 ]\n",
      " [ 0.21392798  0.21392798]\n",
      " [ 0.26180124  0.26180124]\n",
      " [ 0.30864596  0.30864596]\n",
      " [ 0.3542782   0.3542782 ]\n",
      " [ 0.39851844  0.39851844]\n",
      " [ 0.4411931   0.4411931 ]\n",
      " [ 0.48213446  0.48213446]\n",
      " [ 0.5211817   0.5211817 ]\n",
      " [ 0.5581814   0.5581814 ]\n",
      " [ 0.59298813  0.59298813]\n",
      " [ 0.6254653   0.6254653 ]\n",
      " [ 0.65548515  0.65548515]\n",
      " [ 0.68292975  0.68292975]\n",
      " [ 0.70769143  0.70769143]\n",
      " [ 0.7296728   0.7296728 ]\n",
      " [ 0.7487875   0.7487875 ]\n",
      " [ 0.7649605   0.7649605 ]\n",
      " [ 0.77812815  0.77812815]\n",
      " [ 0.7882389   0.7882389 ]\n",
      " [ 0.7952528   0.7952528 ]\n",
      " [ 0.7991426   0.7991426 ]\n",
      " [ 0.79989266  0.79989266]\n",
      " [ 0.79750025  0.79750025]\n",
      " [ 0.7919748   0.7919748 ]\n",
      " [ 0.78333783  0.78333783]\n",
      " [ 0.7716234   0.7716234 ]\n",
      " [ 0.75687754  0.75687754]\n",
      " [ 0.73915815  0.73915815]\n",
      " [ 0.71853495  0.71853495]\n",
      " [ 0.69508874  0.69508874]\n",
      " [ 0.6689118   0.6689118 ]\n",
      " [ 0.6401069   0.6401069 ]\n",
      " [ 0.6087873   0.6087873 ]\n",
      " [ 0.57507586  0.57507586]\n",
      " [ 0.5391052   0.5391052 ]\n",
      " [ 0.5010166   0.5010166 ]\n",
      " [ 0.46095967  0.46095967]\n",
      " [ 0.4190917   0.4190917 ]\n",
      " [ 0.37557733  0.37557733]\n",
      " [ 0.3305874   0.3305874 ]\n",
      " [ 0.28429866  0.28429866]\n",
      " [ 0.23689306  0.23689306]\n",
      " [ 0.18855679  0.18855679]\n",
      " [ 0.13947976  0.13947976]\n",
      " [ 0.08985472  0.08985472]\n",
      " [ 0.0398767   0.0398767 ]\n",
      " [-0.01025796 -0.01025796]\n",
      " [-0.06035233 -0.06035233]\n",
      " [-0.11020958 -0.11020958]\n",
      " [-0.15963387 -0.15963387]\n",
      " [-0.20843112 -0.20843112]\n",
      " [-0.2564094  -0.2564094 ]\n",
      " [-0.30338037 -0.30338037]\n",
      " [-0.34915936 -0.34915936]\n",
      " [-0.39356673 -0.39356673]\n",
      " [-0.43642783 -0.43642783]\n",
      " [-0.47757447 -0.47757447]\n",
      " [-0.51684475 -0.51684475]\n",
      " [-0.55408466 -0.55408466]\n",
      " [-0.58914757 -0.58914757]\n",
      " [-0.621896   -0.621896  ]\n",
      " [-0.6522013  -0.6522013 ]\n",
      " [-0.67994416 -0.67994416]\n",
      " [-0.7050158  -0.7050158 ]\n",
      " [-0.7273177  -0.7273177 ]\n",
      " [-0.74676216 -0.74676216]\n",
      " [-0.7632729  -0.7632729 ]\n",
      " [-0.7767849  -0.7767849 ]\n",
      " [-0.78724515 -0.78724515]\n",
      " [-0.79461277 -0.79461277]\n",
      " [-0.7988584  -0.7988584 ]\n",
      " [-0.79996574 -0.79996574]\n",
      " [-0.7979301  -0.7979301 ]\n",
      " [-0.7927598  -0.7927598 ]\n",
      " [-0.78447497 -0.78447497]\n",
      " [-0.7731081  -0.7731081 ]\n",
      " [-0.75870407 -0.75870407]\n",
      " [-0.7413193  -0.7413193 ]\n",
      " [-0.7210221  -0.7210221 ]\n",
      " [-0.6978923  -0.6978923 ]\n",
      " [-0.6720207  -0.6720207 ]\n",
      " [-0.6435089  -0.6435089 ]\n",
      " [-0.6124691  -0.6124691 ]\n",
      " [-0.579023   -0.579023  ]\n",
      " [-0.54330206 -0.54330206]\n",
      " [-0.5054468  -0.5054468 ]\n",
      " [-0.46560562 -0.46560562]\n",
      " [-0.4239354  -0.4239354 ]\n",
      " [-0.38059962 -0.38059962]\n",
      " [-0.33576858 -0.33576858]\n",
      " [-0.28961837 -0.28961837]\n",
      " [-0.24233043 -0.24233043]\n",
      " [-0.19409037 -0.19409037]\n",
      " [-0.14508784 -0.14508784]\n",
      " [-0.09551537 -0.09551537]\n",
      " [-0.04556751 -0.04556751]\n",
      " [ 0.00455928  0.00455928]\n",
      " [ 0.05466807  0.05466807]\n",
      " [ 0.10456228  0.10456228]\n",
      " [ 0.15404558  0.15404558]\n",
      " [ 0.20292366  0.20292366]\n",
      " [ 0.25100458  0.25100458]\n",
      " [ 0.2980994   0.2980994 ]\n",
      " [ 0.3440231   0.3440231 ]\n",
      " [ 0.38859522  0.38859522]\n",
      " [ 0.43164062  0.43164062]\n",
      " [ 0.47299027  0.47299027]\n",
      " [ 0.5124818   0.5124818 ]\n",
      " [ 0.5499599   0.5499599 ]\n",
      " [ 0.5852773   0.5852773 ]\n",
      " [ 0.61829543  0.61829543]\n",
      " [ 0.6488844   0.6488844 ]\n",
      " [ 0.6769242   0.6769242 ]\n",
      " [ 0.7023046   0.7023046 ]\n",
      " [ 0.72492576  0.72492576]\n",
      " [ 0.744699    0.744699  ]\n",
      " [ 0.7615466   0.7615466 ]\n",
      " [ 0.7754023   0.7754023 ]\n",
      " [ 0.7862117   0.7862117 ]\n",
      " [ 0.7939323   0.7939323 ]\n",
      " [ 0.7985339   0.7985339 ]\n",
      " [ 0.7999983   0.7999983 ]\n",
      " [ 0.7983196   0.7983196 ]\n",
      " [ 0.7935047   0.7935047 ]\n",
      " [ 0.7855724   0.7855724 ]\n",
      " [ 0.7745538   0.7745538 ]\n",
      " [ 0.7604923   0.7604923 ]\n",
      " [ 0.743443    0.743443  ]\n",
      " [ 0.72347295  0.72347295]\n",
      " [ 0.7006607   0.7006607 ]\n",
      " [ 0.6750957   0.6750957 ]\n",
      " [ 0.6468785   0.6468785 ]\n",
      " [ 0.61611986  0.61611986]\n",
      " [ 0.5829408   0.5829408 ]\n",
      " [ 0.5474715   0.5474715 ]\n",
      " [ 0.50985146  0.50985146]]\n"
     ]
    }
   ],
   "source": [
    "print(data)"
   ]
  },
  {
   "cell_type": "code",
   "execution_count": 43,
   "id": "e18a011c",
   "metadata": {},
   "outputs": [],
   "source": [
    "#testing with downloaded cantina band file\n",
    "audiofile = \"/Users/anniechu/Desktop/CantinaBand3.wav\"\n",
    "fs, cb_data = wavfile.read(audiofile)"
   ]
  },
  {
   "cell_type": "code",
   "execution_count": 44,
   "id": "036f2522",
   "metadata": {},
   "outputs": [
    {
     "name": "stdout",
     "output_type": "stream",
     "text": [
      "[   3    7    0 ...  -12 -427 -227]\n"
     ]
    }
   ],
   "source": [
    "print(cb_data)"
   ]
  },
  {
   "cell_type": "code",
   "execution_count": 45,
   "id": "e8929c37",
   "metadata": {},
   "outputs": [
    {
     "name": "stdout",
     "output_type": "stream",
     "text": [
      "length = 3.0s\n"
     ]
    }
   ],
   "source": [
    "length = cb_data.shape[0] / fs\n",
    "print(f\"length = {length}s\")\n"
   ]
  },
  {
   "cell_type": "code",
   "execution_count": 46,
   "id": "00a2b9a9",
   "metadata": {},
   "outputs": [],
   "source": [
    "import simpleaudio as sa\n",
    "wave_obj = sa.WaveObject.from_wave_file(audiofile)\n",
    "play_obj = wave_obj.play()\n",
    "#play_obj.wait_done()"
   ]
  },
  {
   "cell_type": "code",
   "execution_count": 18,
   "id": "cae98d29",
   "metadata": {},
   "outputs": [],
   "source": [
    "play_obj.stop()"
   ]
  },
  {
   "cell_type": "code",
   "execution_count": 66,
   "id": "237c513f",
   "metadata": {},
   "outputs": [
    {
     "name": "stdout",
     "output_type": "stream",
     "text": [
      "66150\n",
      "66150\n"
     ]
    }
   ],
   "source": [
    "#add reverb\n",
    "#rv_cb = cb_data + allpass(cb_data, 0.5, 2000)\n",
    "rv_cb = schroeder(cb_data)\n",
    "\n",
    "print(len(cb_data))\n",
    "print(len(rv_cb))\n",
    "rv_cb1=np.int16(rv_cb/np.max(np.abs(rv_cb)) * 32767)\n"
   ]
  },
  {
   "cell_type": "code",
   "execution_count": 70,
   "id": "28993979",
   "metadata": {},
   "outputs": [],
   "source": [
    "play_obj = sa.play_buffer(cb_data, 1, 2, fs)"
   ]
  },
  {
   "cell_type": "code",
   "execution_count": 61,
   "id": "9c24516a",
   "metadata": {},
   "outputs": [],
   "source": [
    "play_obj.stop()"
   ]
  },
  {
   "cell_type": "code",
   "execution_count": 71,
   "id": "81171ac3",
   "metadata": {},
   "outputs": [],
   "source": [
    "play_obj = sa.play_buffer(rv_cb1, 1, 2, fs)"
   ]
  },
  {
   "cell_type": "code",
   "execution_count": 59,
   "id": "49857214",
   "metadata": {},
   "outputs": [],
   "source": [
    "play_obj.stop()"
   ]
  },
  {
   "cell_type": "code",
   "execution_count": null,
   "id": "49a2dc78",
   "metadata": {},
   "outputs": [],
   "source": []
  }
 ],
 "metadata": {
  "kernelspec": {
   "display_name": "Python 3",
   "language": "python",
   "name": "python3"
  },
  "language_info": {
   "codemirror_mode": {
    "name": "ipython",
    "version": 3
   },
   "file_extension": ".py",
   "mimetype": "text/x-python",
   "name": "python",
   "nbconvert_exporter": "python",
   "pygments_lexer": "ipython3",
   "version": "3.8.8"
  }
 },
 "nbformat": 4,
 "nbformat_minor": 5
}
