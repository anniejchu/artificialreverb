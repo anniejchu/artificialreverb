{
 "cells": [
  {
   "cell_type": "markdown",
   "id": "b925c471",
   "metadata": {},
   "source": [
    "## Comb & All Pass Filters\n",
    "#### Annie Chu | October 2022"
   ]
  },
  {
   "cell_type": "code",
   "execution_count": 1,
   "id": "da033796",
   "metadata": {},
   "outputs": [],
   "source": [
    "import numpy as np\n",
    "import matplotlib as mpl\n",
    "import matplotlib.pyplot as plt\n",
    "from scipy import signal"
   ]
  },
  {
   "cell_type": "markdown",
   "id": "de0c270d",
   "metadata": {},
   "source": [
    "### METHOD 1: USING SCIPY'S FILTER FUNCTION"
   ]
  },
  {
   "cell_type": "code",
   "execution_count": null,
   "id": "eafcd6ec",
   "metadata": {},
   "outputs": [],
   "source": [
    "#FEEDFORWARD COMB FILTER: TF = [1 + a*z^-k]"
   ]
  },
  {
   "cell_type": "code",
   "execution_count": null,
   "id": "1b250643",
   "metadata": {},
   "outputs": [],
   "source": [
    "f0 = 30.0  # Frequency to be removed from signal (Hz)\n",
    "fs = f0*10  # sampling freq\n",
    "Q = 30.0  # Quality factor\n",
    "\n",
    "# Design notching comb filter\n",
    "num, den = signal.iircomb(f0, Q, ftype='notch', fs=fs)\n",
    "#print(num, den)"
   ]
  },
  {
   "cell_type": "code",
   "execution_count": null,
   "id": "0bd8fc26",
   "metadata": {},
   "outputs": [],
   "source": [
    "sys = signal.TransferFunction(num, den) #initializing transfer function: not necessary\n",
    "#print(sys) "
   ]
  },
  {
   "cell_type": "code",
   "execution_count": null,
   "id": "169b5e75",
   "metadata": {},
   "outputs": [],
   "source": [
    "#plot step response of transfer function\n",
    "time, response = signal.step(sys)\n",
    "plt.plot(time,response,label=\"Impulse of FF Comb\")\n",
    "plt.show()"
   ]
  },
  {
   "cell_type": "code",
   "execution_count": null,
   "id": "ad0899c6",
   "metadata": {},
   "outputs": [],
   "source": [
    "#creating freq & magnitude vector for plotting\n",
    "freq, resp = signal.freqz(num, den, fs=fs)\n",
    "response = abs(resp)\n",
    "# To avoid divide by zero when graphing\n",
    "response[response == 0] = 1e-20\n",
    "# Plot\n",
    "plt.plot(freq, response)\n",
    "plt.show()\n",
    "\n",
    "# angles = np.unwrap(np.angle(h))\n",
    "# plt.plot(w/max(w), angles, 'g')\n",
    "# plt.ylabel('phase (radians)', color='g')\n",
    "# plt.xlabel(r'normalized frequency (x$\\pi$rad/sample)')\n",
    "# plt.show()"
   ]
  },
  {
   "cell_type": "code",
   "execution_count": null,
   "id": "50b0ac97",
   "metadata": {},
   "outputs": [],
   "source": [
    "#FEEDBACK COMB FILTER: z^{-\\tau}/1-gz^{-\\tau}"
   ]
  },
  {
   "cell_type": "code",
   "execution_count": null,
   "id": "deb8b949",
   "metadata": {},
   "outputs": [],
   "source": [
    "num_fb, den_fb = signal.iircomb(f0, Q, ftype='peak', fs=fs)\n",
    "freq, resp = signal.freqz(num_fb, den_fb, fs=fs)\n",
    "response = abs(resp)\n",
    "# To avoid divide by zero when graphing\n",
    "response[response == 0] = 1e-20\n",
    "# Plot\n",
    "plt.plot(freq, response)\n",
    "plt.show()\n",
    "\n",
    "# angles = np.unwrap(np.angle(response))\n",
    "# plt.plot(freq/max(freq), angles, 'g')\n",
    "# plt.ylabel('phase (radians)', color='g')\n",
    "# plt.xlabel(r'normalized frequency (x$\\pi$rad/sample)')\n",
    "# plt.show()"
   ]
  },
  {
   "cell_type": "code",
   "execution_count": null,
   "id": "c79158bf",
   "metadata": {},
   "outputs": [],
   "source": [
    "print(num_fb)"
   ]
  },
  {
   "cell_type": "code",
   "execution_count": null,
   "id": "f43cc9b7",
   "metadata": {},
   "outputs": [],
   "source": [
    "print(den_fb)"
   ]
  },
  {
   "cell_type": "markdown",
   "id": "2e6d21c3",
   "metadata": {},
   "source": [
    "### METHOD 2: TRANSFER FUNCTIONS\n",
    "\n",
    "https://en.wikipedia.org/wiki/Comb_filter\n",
    "Confused how to input f0"
   ]
  },
  {
   "cell_type": "code",
   "execution_count": null,
   "id": "64deb88d",
   "metadata": {},
   "outputs": [],
   "source": [
    "# FEEDBACK H(F) METHOD: z^{-\\tau}/1-gz^{-\\tau}\n",
    "fs = 300\n",
    "g = 0.9;\n",
    "\n",
    "def fb_comb_tf(k, g ): # k= delay\n",
    "    den = np.zeros(k+1)\n",
    "    num = np.zeros(k+1)\n",
    "    den[0] = 1\n",
    "    num[len(num)-1] = 1\n",
    "    den[len(den)-1] = g;\n",
    "    #print(num, den)\n",
    "    return num, den\n",
    "\n",
    "#B = [0, 0, 0, 0, 0, 0, 1]; \n",
    "#A = [1, 0, 0, 0, 0, 0, g];\n",
    "\n",
    "#magnitude and phase response\n",
    "B, A = fb_comb_tf(6, 0.9);\n",
    "w, h = signal.freqz(B,A, fs = fs);\n",
    "\n",
    "h = abs(h);\n",
    "h[h==0] = 1e-20\n",
    "plt.plot(w, h)\n",
    "plt.show()\n",
    "\n",
    "# angles = np.unwrap(np.angle(h))\n",
    "# plt.plot(w, angles, 'g')\n",
    "# plt.ylabel('phase (radians)', color='g')\n",
    "# plt.xlabel(r'normalized frequency (x$\\pi$rad/sample)')\n",
    "# plt.show()"
   ]
  },
  {
   "cell_type": "code",
   "execution_count": null,
   "id": "e030ec01",
   "metadata": {},
   "outputs": [],
   "source": [
    "def ff_comb_tf(k, g): # k= delay\n",
    "    den = np.zeros(k+1)\n",
    "    num = np.zeros(k+1)\n",
    "    num[0] = 1\n",
    "    num[len(num)-1] = -g\n",
    "    den[0] = 1\n",
    "    #print(num, den)\n",
    "    return num, den\n",
    "fs = 100;\n",
    "b, a = ff_comb_tf(5, 0.9)\n",
    "w, h = signal.freqz(b,a, fs = fs); #looks like filtered out is 5 * f0 (desired filteres freq)\n",
    "h = abs(h);\n",
    "h[h==0] = 1e-20;\n",
    "plt.plot(w, h)\n",
    "plt.show()\n",
    "\n",
    "# angles = np.unwrap(np.angle(h))\n",
    "# plt.plot(w/max(w), angles, 'g')\n",
    "# plt.ylabel('phase (radians)', color='g')\n",
    "# plt.xlabel(r'normalized frequency (x$\\pi$rad/sample)')\n",
    "# plt.show()"
   ]
  },
  {
   "cell_type": "code",
   "execution_count": null,
   "id": "46fcc0b6",
   "metadata": {},
   "outputs": [],
   "source": [
    "'''\n",
    "SAME AS ABOVE, JUST WITHOUT FUNCTION\n",
    "'''\n",
    "# FEEDFORWARD H(F) METHOD: 1+ gz^{-\\tau}\n",
    "g = 0.9;\n",
    "B = [1, 0, 0, 0, 0, -g]; \n",
    "A = [1, 0, 0, 0, 0, 0];\n",
    "#magnitude and phase response\n",
    "w, h = signal.freqz(B,A, fs = 100); #looks like filtered out is 5 * f0 (desired filteres freq)\n",
    "h = abs(h);\n",
    "h[h==0] = 1e-20;\n",
    "plt.plot(w, h)\n",
    "plt.show()"
   ]
  },
  {
   "cell_type": "markdown",
   "id": "642f6293",
   "metadata": {},
   "source": [
    "### ALL PASS FILTER\n",
    "https://sevagh.github.io/warped-linear-prediction/First-order%20all-pass%20filter.html"
   ]
  },
  {
   "cell_type": "code",
   "execution_count": null,
   "id": "879f8c24",
   "metadata": {},
   "outputs": [],
   "source": [
    "import numpy as np\n",
    "import matplotlib as mpl\n",
    "import matplotlib.pyplot as plt\n",
    "from scipy import signal"
   ]
  },
  {
   "cell_type": "code",
   "execution_count": null,
   "id": "5d5b7ab0",
   "metadata": {},
   "outputs": [],
   "source": [
    "#first order\n",
    "#transfer function: [z^-1 - lambda]/[1-lambda*z^-1]\n",
    "#where lambda = complex pole -- what does this mean\n",
    "#assuming lambda = 0 in this model\n",
    "lam = 0; \n",
    "num_ap = [lam, 1]\n",
    "den_ap = [1, lam]\n",
    "\n",
    "w, h = signal.freqz(num_ap, den_ap)"
   ]
  },
  {
   "cell_type": "code",
   "execution_count": null,
   "id": "377770b5",
   "metadata": {},
   "outputs": [],
   "source": [
    "plt.title('frequency response of unit delay')\n",
    "plt.plot(w/max(w), 20 * np.log10(abs(h)), 'b')\n",
    "plt.ylim(-1, 1)\n",
    "plt.ylabel('amplitude (dB)', color='b')\n",
    "plt.xlabel(r'normalized frequency (x$\\pi$rad/sample)')\n",
    "plt.show()"
   ]
  },
  {
   "cell_type": "code",
   "execution_count": null,
   "id": "e5ad11aa",
   "metadata": {},
   "outputs": [],
   "source": [
    "angles = np.unwrap(np.angle(h))\n",
    "plt.plot(w/max(w), angles, 'g')\n",
    "plt.ylabel('phase (radians)', color='g')\n",
    "plt.xlabel(r'normalized frequency (x$\\pi$rad/sample)')\n",
    "plt.show()"
   ]
  },
  {
   "cell_type": "code",
   "execution_count": 30,
   "id": "06763a4c",
   "metadata": {},
   "outputs": [
    {
     "name": "stdout",
     "output_type": "stream",
     "text": [
      "[1.  0.6 0.2]\n",
      "[2.  1.2 0.4]\n"
     ]
    }
   ],
   "source": [
    "# feedback comb filter\n",
    "\n",
    "def comb(x_n, g, d):\n",
    "    # x_n is numpy array of initial samples\n",
    "    y_n = np.zeros(len(x_n));\n",
    "    for i in range(len(x_n)):\n",
    "        if i-d < 0:\n",
    "            y_n[i] = x_n[i]\n",
    "        else:\n",
    "            y_n[i] = x_n[i] + g*y_n[i-d]\n",
    "    return y_n\n",
    "\n",
    "x1 = np.array([1.0, 0.1, -0.1])\n",
    "\n",
    "y1 = comb(x1, 0.5, 1)\n",
    "y2 = comb(x1, 0.5, 1)\n",
    "\n",
    "print(y1)\n",
    "print(y1+y2)"
   ]
  },
  {
   "cell_type": "code",
   "execution_count": 31,
   "id": "a445718b",
   "metadata": {},
   "outputs": [
    {
     "data": {
      "text/plain": [
       "array([ 0.5 ,  0.8 , -0.35])"
      ]
     },
     "execution_count": 31,
     "metadata": {},
     "output_type": "execute_result"
    }
   ],
   "source": [
    "def allpass(x_n, g, d):\n",
    "    # x_n is numpy array of initial samples\n",
    "    y_n = np.zeros(len(x_n));\n",
    "    for i in range(len(x_n)):\n",
    "        if i-d < 0:\n",
    "            y_n[i] = g*x_n[i]\n",
    "        else:\n",
    "            y_n[i] = g*x_n[i] + x_n[i-d] - g*y_n[i-d]\n",
    "    return y_n\n",
    "\n",
    "x1 = np.array([1.0, 0.1, -0.1])\n",
    "\n",
    "allpass(x1, 0.5, 1)"
   ]
  },
  {
   "cell_type": "code",
   "execution_count": 45,
   "id": "e8929c37",
   "metadata": {},
   "outputs": [
    {
     "name": "stdout",
     "output_type": "stream",
     "text": [
      "length = 3.0s\n"
     ]
    }
   ],
   "source": [
    "length = cb_data.shape[0] / fs\n",
    "print(f\"length = {length}s\")\n"
   ]
  },
  {
   "cell_type": "code",
   "execution_count": 46,
   "id": "00a2b9a9",
   "metadata": {},
   "outputs": [],
   "source": [
    "import simpleaudio as sa\n",
    "wave_obj = sa.WaveObject.from_wave_file(audiofile)\n",
    "play_obj = wave_obj.play()\n",
    "#play_obj.wait_done()"
   ]
  },
  {
   "cell_type": "code",
   "execution_count": 18,
   "id": "cae98d29",
   "metadata": {},
   "outputs": [],
   "source": [
    "play_obj.stop()"
   ]
  },
  {
   "cell_type": "code",
   "execution_count": 66,
   "id": "237c513f",
   "metadata": {},
   "outputs": [
    {
     "name": "stdout",
     "output_type": "stream",
     "text": [
      "66150\n",
      "66150\n"
     ]
    }
   ],
   "source": [
    "#add reverb\n",
    "#rv_cb = cb_data + allpass(cb_data, 0.5, 2000)\n",
    "rv_cb = schroeder(cb_data)\n",
    "\n",
    "print(len(cb_data))\n",
    "print(len(rv_cb))\n",
    "rv_cb1=np.int16(rv_cb/np.max(np.abs(rv_cb)) * 32767)\n"
   ]
  },
  {
   "cell_type": "code",
   "execution_count": 70,
   "id": "28993979",
   "metadata": {},
   "outputs": [],
   "source": [
    "play_obj = sa.play_buffer(cb_data, 1, 2, fs)"
   ]
  },
  {
   "cell_type": "code",
   "execution_count": 61,
   "id": "9c24516a",
   "metadata": {},
   "outputs": [],
   "source": [
    "play_obj.stop()"
   ]
  },
  {
   "cell_type": "code",
   "execution_count": 71,
   "id": "81171ac3",
   "metadata": {},
   "outputs": [],
   "source": [
    "play_obj = sa.play_buffer(rv_cb1, 1, 2, fs)"
   ]
  },
  {
   "cell_type": "code",
   "execution_count": 59,
   "id": "49857214",
   "metadata": {},
   "outputs": [],
   "source": [
    "play_obj.stop()"
   ]
  },
  {
   "cell_type": "code",
   "execution_count": null,
   "id": "49a2dc78",
   "metadata": {},
   "outputs": [],
   "source": []
  }
 ],
 "metadata": {
  "kernelspec": {
   "display_name": "Python 3",
   "language": "python",
   "name": "python3"
  },
  "language_info": {
   "codemirror_mode": {
    "name": "ipython",
    "version": 3
   },
   "file_extension": ".py",
   "mimetype": "text/x-python",
   "name": "python",
   "nbconvert_exporter": "python",
   "pygments_lexer": "ipython3",
   "version": "3.8.8"
  }
 },
 "nbformat": 4,
 "nbformat_minor": 5
}
