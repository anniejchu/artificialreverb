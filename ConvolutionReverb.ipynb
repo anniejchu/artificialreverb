{
 "cells": [
  {
   "cell_type": "markdown",
   "id": "628d28ad",
   "metadata": {},
   "source": [
    "CONVOLUTION REVERB\n",
    "\n",
    "convolving an input signal with an input impulse response"
   ]
  },
  {
   "cell_type": "code",
   "execution_count": 3,
   "id": "af2fc683",
   "metadata": {},
   "outputs": [],
   "source": [
    "import numpy as np\n",
    "import matplotlib as mpl\n",
    "import matplotlib.pyplot as plt\n",
    "from scipy import signal\n",
    "from scipy.io import wavfile\n",
    "import simpleaudio as sa\n",
    "from matplotlib.pyplot import figure\n",
    "import math\n",
    "import utility"
   ]
  },
  {
   "cell_type": "code",
   "execution_count": 2,
   "id": "2ca1a1b7",
   "metadata": {},
   "outputs": [],
   "source": [
    "# ------- MONO -------"
   ]
  },
  {
   "cell_type": "code",
   "execution_count": null,
   "id": "d1107df0",
   "metadata": {},
   "outputs": [],
   "source": [
    "audiofile = \"/Users/anniechu/Desktop/CantinaBand3.wav\"\n",
    "fs_in, data_in = wavfile.read(audiofile)"
   ]
  },
  {
   "cell_type": "code",
   "execution_count": null,
   "id": "a73c2bc4",
   "metadata": {},
   "outputs": [],
   "source": [
    "# mono data\n",
    "print(f\".Wav Contents = {data_in}\")\n",
    "print(f\".Wav Samples Length = {data_in.shape[0]}\")\n",
    "print(f\".Wav Channel(s) = {len(data_in.shape)}\")\n",
    "length = data_in.shape[0] / fs_in\n",
    "print(f\".Wav Length = {length}s\")\n",
    "print(f\"Sampling Rate= {fs_in} Hz\")\n",
    "print(f\"bit depth= {type(data_in[0])}\")\n",
    "\n",
    "plt.plot(data_in);\n",
    "plt.title(\"Raw File Cantina Band 3s\");\n",
    "plt.xlabel(\"Samples\");\n",
    "plt.ylabel(\"Amplitude\");"
   ]
  },
  {
   "cell_type": "code",
   "execution_count": null,
   "id": "7e27d485",
   "metadata": {},
   "outputs": [],
   "source": [
    "#playing mono sound\n",
    "orig_mono = sa.play_buffer(data_in, 1, 2, fs_in)"
   ]
  },
  {
   "cell_type": "code",
   "execution_count": null,
   "id": "550c6d52",
   "metadata": {},
   "outputs": [],
   "source": [
    "orig_mono.stop()"
   ]
  },
  {
   "cell_type": "code",
   "execution_count": null,
   "id": "943bea87",
   "metadata": {},
   "outputs": [],
   "source": [
    "#using utility to convert int16 to float32 as convolving large numbers takes up too long\n",
    "print(\"old dtype: {}\".format(data_in.dtype))\n",
    "normalized_din = utility.pcm2float(data_in, 'float32')\n",
    "print(\"new dtype: {}\".format(normalized_din.dtype))\n",
    "np.set_printoptions(precision=6)\n",
    "print(normalized_din)\n",
    "\n",
    "plt.plot(normalized_din);\n",
    "plt.title(\"Normalized Raw File Cantina Band 3s\");\n",
    "plt.xlabel(\"Samples\");\n",
    "plt.ylabel(\"Amplitude\");"
   ]
  },
  {
   "cell_type": "code",
   "execution_count": null,
   "id": "76e7755b",
   "metadata": {},
   "outputs": [],
   "source": [
    "#choose impulse response here!\n",
    "IR = \"/Users/anniechu/Documents/artificialreverb/WireGrind-IR-44100-v2/mono/WireGrind_m_0.8s_06w_900Hz_02m.wav\"\n",
    "fs_IR, data_IR = wavfile.read(IR)"
   ]
  },
  {
   "cell_type": "code",
   "execution_count": null,
   "id": "965e31e4",
   "metadata": {},
   "outputs": [],
   "source": [
    "print(f\".Wav Contents = {data_IR}\")\n",
    "print(f\".Wav Samples Length = {data_IR.shape[0]}\")\n",
    "print(f\".Wav Channel(s) = {len(data_IR.shape)}\")\n",
    "len_IR = data_IR.shape[0] / fs_in\n",
    "print(f\".Wav Length = {len_IR}s\")\n",
    "print(f\"Sampling Rate= {fs_IR} Hz\")\n",
    "print(f\"bit depth= {type(data_IR[0])}\")\n",
    "\n",
    "print(f\"sampling rate = {fs_IR} Hz, length = {data_IR.shape[0]} samples => {data_IR.shape[0]/fs_in} s, channels = {len(data_IR.shape)}\")\n",
    "print(data_IR)\n",
    "plt.plot(data_IR);\n",
    "plt.title(\"Raw Impulse Response\");\n",
    "plt.xlabel(\"Samples\");\n",
    "plt.ylabel(\"Amplitude\");"
   ]
  },
  {
   "cell_type": "code",
   "execution_count": null,
   "id": "0fcbf26a",
   "metadata": {},
   "outputs": [],
   "source": [
    "#using utility to convert int32 to float to match the input signal\n",
    "print(\"old dtype: {}\".format(data_IR.dtype))\n",
    "normalized_IR = utility.pcm2float(data_IR, \"float32\")\n",
    "print(\"new dtype: {}\".format(normalized_IR.dtype))\n",
    "np.set_printoptions(precision=6)\n",
    "print(normalized_IR)\n",
    "plt.plot(normalized_IR);\n",
    "plt.title(\"Normalized Impulse Response\");\n",
    "plt.xlabel(\"Samples\");\n",
    "plt.ylabel(\"Amplitude\");"
   ]
  },
  {
   "cell_type": "code",
   "execution_count": null,
   "id": "e6c21e73",
   "metadata": {},
   "outputs": [],
   "source": [
    "#convolving normalized version of input signal with \n",
    "\"\"\"need to manage different sampling rates\"\"\"\n",
    "conv_sig = signal.convolve(normalized_IR, normalized_din, mode='full', method='auto')\n",
    "print(conv_sig)"
   ]
  },
  {
   "cell_type": "code",
   "execution_count": null,
   "id": "1d304947",
   "metadata": {},
   "outputs": [],
   "source": [
    "#converting convolved signal from float64 back to int16\n",
    "new_conv_sig = utility.float2pcm(conv_sig, 'int16')\n",
    "print(new_conv_sig)\n",
    "print(f\"Old Conv Sig type = {conv_sig.dtype}\")\n",
    "print(f\"New Conv Sig type = {new_conv_sig.dtype}\")\n",
    "\n",
    "plt.plot(new_conv_sig, label = \"reverbed\");\n",
    "plt.plot(data_in, label = \"original\");\n",
    "plt.legend();\n",
    "plt.xlabel(\"Samples\");\n",
    "plt.ylabel(\"Amplitude\");"
   ]
  },
  {
   "cell_type": "code",
   "execution_count": null,
   "id": "87ad4544",
   "metadata": {},
   "outputs": [],
   "source": [
    "play_obj = sa.play_buffer(new_conv_sig, 1, 2, fs_in)"
   ]
  },
  {
   "cell_type": "code",
   "execution_count": null,
   "id": "71e22169",
   "metadata": {},
   "outputs": [],
   "source": [
    "play_obj.stop()"
   ]
  },
  {
   "cell_type": "code",
   "execution_count": null,
   "id": "877126f4",
   "metadata": {},
   "outputs": [],
   "source": [
    "play_obj1 = sa.play_buffer(data_in, 1, 2, fs_in)"
   ]
  },
  {
   "cell_type": "code",
   "execution_count": null,
   "id": "05eeee89",
   "metadata": {},
   "outputs": [],
   "source": [
    "play_obj.stop()"
   ]
  },
  {
   "cell_type": "code",
   "execution_count": null,
   "id": "947ff773",
   "metadata": {},
   "outputs": [],
   "source": [
    "# ----- STEREO ---------"
   ]
  },
  {
   "cell_type": "code",
   "execution_count": null,
   "id": "1d8b47db",
   "metadata": {},
   "outputs": [],
   "source": [
    "#that audio file is mono, so we're gonna make it stereo by copying it\n",
    "new_data_in = np.stack((data_in, data_in), axis=-1)"
   ]
  },
  {
   "cell_type": "code",
   "execution_count": null,
   "id": "f5c24dfb",
   "metadata": {},
   "outputs": [],
   "source": [
    "#new stereo data\n",
    "print(f\".Wav Contents = {new_data_in}\")\n",
    "print(f\".Wav Shape = {new_data_in.shape}\")\n",
    "length = new_data_in.shape[0] / fs_in\n",
    "print(f\".Wav Length = {length}s\")\n",
    "print(f\"Sampling Rate= {fs_in} Hz\")\n",
    "\n",
    "print(f\"bit depth= {type(new_data_in[0][0])}\")\n",
    "\n",
    "#playing stereo\n",
    "play_obj = sa.play_buffer(new_data_in, 2, 2, fs_in)\n"
   ]
  },
  {
   "cell_type": "code",
   "execution_count": null,
   "id": "07b2cb4e",
   "metadata": {},
   "outputs": [],
   "source": [
    "#downsampling, removing every odd\n",
    "a = [1.0, 0, 1.0]\n",
    "b = [a[i] for i in range(len(a)) if i %2 == 0]\n",
    "b\n"
   ]
  },
  {
   "cell_type": "code",
   "execution_count": 22,
   "id": "53292f62",
   "metadata": {},
   "outputs": [
    {
     "name": "stdout",
     "output_type": "stream",
     "text": [
      "[4.  4.5 5.  5.5 6.  6.  6.  6.5 7.  7.5 8.  8.5 9.  9. ]\n"
     ]
    },
    {
     "data": {
      "text/plain": [
       "<matplotlib.legend.Legend at 0x11ac44100>"
      ]
     },
     "execution_count": 22,
     "metadata": {},
     "output_type": "execute_result"
    },
    {
     "data": {
      "image/png": "[encoded data removed]",
      "text/plain": [
       "<Figure size 432x288 with 1 Axes>"
      ]
     },
     "metadata": {
      "needs_background": "light"
     },
     "output_type": "display_data"
    },
    {
     "data": {
      "image/png": "[encoded data removed]",
      "text/plain": [
       "<Figure size 432x288 with 1 Axes>"
      ]
     },
     "metadata": {
      "needs_background": "light"
     },
     "output_type": "display_data"
    }
   ],
   "source": [
    "#upsampling\n",
    "#mono\n",
    "from scipy.interpolate import interp1d\n",
    "\n",
    "#creating example original signal\n",
    "x= np.array([4,5,6,6,7,8,9])\n",
    "k = np.arange(len(x))\n",
    "plt.figure()\n",
    "plt.stem(k,x,basefmt = \":\")\n",
    "plt.xlabel('Sample [k]')\n",
    "plt.ylabel('amplitude')\n",
    "plt.title('original signal')\n",
    "#inserting zeros in between original sample\n",
    "upsamp = 2\n",
    "n = x.shape\n",
    "size = n[0]\n",
    "out = np.zeros(upsamp*size, dtype = int)\n",
    "out[::upsamp] = x\n",
    "k_up = np.arange(len(out))\n",
    "plt.figure()\n",
    "plt.stem(k_up,out, basefmt = \":\")\n",
    "plt.xlabel('Sample [k]')\n",
    "plt.ylabel('amplitude')\n",
    "plt.title('upsampled signal')\n",
    "\n",
    "#upsampling & interpolation\n",
    "x_interp = np.interp(k_up, k_up[out!=0], out[out!=0])\n",
    "print(x_interp)\n",
    "plt.plot(k_up, x_interp)\n",
    "plt.legend([\"interpolated\", 'upsampled'])\n",
    "# plt.plot(k_up, ynew)\n"
   ]
  },
  {
   "cell_type": "code",
   "execution_count": null,
   "id": "405e55ae",
   "metadata": {},
   "outputs": [],
   "source": [
    "from scipy.interpolate import interp1d\n",
    "x = np.arange(6)\n",
    "y = out[::2]\n",
    "print(x,y)\n",
    "# f2 = interp1d(x, y, kind = 'cubic')\n",
    "plt.plot(x, f2(x))"
   ]
  },
  {
   "cell_type": "code",
   "execution_count": null,
   "id": "105ff7b9",
   "metadata": {},
   "outputs": [],
   "source": [
    "\n",
    "#stereo\n",
    "upsamp = 2\n",
    "x = np.array([[1,2,3],[4,5,6]])\n",
    "m,n = x.shape\n",
    "out = np.zeros((m,upsamp*n),dtype=x.dtype)\n",
    "out[:,::upsamp] = x\n",
    "out"
   ]
  },
  {
   "cell_type": "code",
   "execution_count": null,
   "id": "9a150956",
   "metadata": {},
   "outputs": [],
   "source": []
  }
 ],
 "metadata": {
  "kernelspec": {
   "display_name": "Python 3",
   "language": "python",
   "name": "python3"
  },
  "language_info": {
   "codemirror_mode": {
    "name": "ipython",
    "version": 3
   },
   "file_extension": ".py",
   "mimetype": "text/x-python",
   "name": "python",
   "nbconvert_exporter": "python",
   "pygments_lexer": "ipython3",
   "version": "3.8.8"
  }
 },
 "nbformat": 4,
 "nbformat_minor": 5
}
