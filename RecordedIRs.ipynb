{
 "cells": [
  {
   "cell_type": "code",
   "execution_count": 1,
   "id": "f2ef349e",
   "metadata": {},
   "outputs": [],
   "source": [
    "import numpy as np\n",
    "import matplotlib as mpl\n",
    "import matplotlib.pyplot as plt\n",
    "from scipy import signal\n",
    "from scipy.io import wavfile\n",
    "import simpleaudio as sa\n",
    "from matplotlib.pyplot import figure\n",
    "import math\n",
    "import utility"
   ]
  },
  {
   "cell_type": "code",
   "execution_count": 2,
   "id": "9cc1f559",
   "metadata": {},
   "outputs": [],
   "source": [
    "\"\"\"FUNCTION: display_data() -- checking data contents (mono vs stereo)\"\"\" \n",
    "#works both mono & stereo\n",
    "def display_data(audiofile, showgraphs = False):\n",
    "    fs_in, data_in = wavfile.read(audiofile)\n",
    "    print(f\".Wav Contents = {data_in}\")\n",
    "    print(f\".Wav Samples Length = {data_in.shape[0]}\")\n",
    "    print(f\".Wav Channel(s) = {len(data_in.shape)}\")\n",
    "    length = data_in.shape[0] / fs_in\n",
    "    print(f\".Wav Length = {length}s\")\n",
    "    print(f\"Sampling Rate= {fs_in} Hz\")\n",
    "    print(f\"bit depth= {type(data_in[0])}\")\n",
    "    print(f\"sampling rate = {fs_in} Hz, length = {data_in.shape[0]} samples => {data_in.shape[0]/fs_in} s, channels = {len(data_in.shape)}\")\n",
    "\n",
    "    if showgraphs == True:\n",
    "        figure();\n",
    "        plt.plot(data_in);\n",
    "        plt.title(str(audiofile));\n",
    "        plt.xlabel(\"Samples\");\n",
    "        plt.ylabel(\"Amplitude\");\n",
    "    print(\"-------------\")"
   ]
  },
  {
   "cell_type": "code",
   "execution_count": 3,
   "id": "79c0d14f",
   "metadata": {},
   "outputs": [],
   "source": [
    "\"\"\"make stereo regardless\"\"\"\n",
    "def makestereo(audiofile):\n",
    "    stereodata = 0\n",
    "    fs, data = wavfile.read(audiofile)\n",
    "    chan_num = len(data.shape)\n",
    "    if chan_num == 1:\n",
    "        stereodata = np.stack((data, data), axis=-1)\n",
    "    else: #if chan_num == 2, stereo\n",
    "        stereodata = data\n",
    "    return stereodata, fs\n",
    "        "
   ]
  },
  {
   "cell_type": "code",
   "execution_count": 4,
   "id": "ae115e4f",
   "metadata": {},
   "outputs": [],
   "source": [
    "\"\"\"function to read sound depending on # of channels in input signal .wav file\"\"\"\n",
    "\n",
    "# def play_sound(audiofile):\n",
    "#     fs_in, data_in = wavfile.read(audiofile)\n",
    "#     num_chan = len(data_in.shape)\n",
    "#     if num_chan == 1:\n",
    "#         playwav = sa.play_buffer(data_in, 1, 2, fs_in)\n",
    "#         return playwav\n",
    "#     elif num_chan == 2:\n",
    "#         playwav = sa.play_buffer(data_in, 2, 2, fs_in)\n",
    "#         return playwav\n",
    "\n",
    "def play_sound(audiopcm, fspcm):\n",
    "    num_chan = len(audiopcm.shape)\n",
    "    if num_chan == 1:\n",
    "        playwav = sa.play_buffer(audiopcm, 1, 2, fspcm)\n",
    "        return playwav\n",
    "    elif num_chan == 2:\n",
    "        playwav = sa.play_buffer(audiopcm, 2, 2, fspcm)\n",
    "        return playwav"
   ]
  },
  {
   "cell_type": "code",
   "execution_count": 5,
   "id": "dce3292f",
   "metadata": {},
   "outputs": [],
   "source": [
    "\"\"\"\n",
    "FUNCITON match_fs: calculating diff in fs factor, returns upsampling factor & which data to upsample\n",
    "\"\"\"\n",
    "\n",
    "def match_fs(input_fs, IR_fs, input_sig, IR):\n",
    "    upsamp= IR_fs/input_fs; #IR fs divided by fs_in -- if > 1, IR has higher fs; if < 1 data_in has higher fs\n",
    "    upsamp_data = 0;\n",
    "    baseline = 0;\n",
    "    data_name = 0;\n",
    "    if input_fs > IR_fs: #if samp rate of data is greater than samp rate of IR, take reciprocal\n",
    "        upsamp = 1/upsamp;\n",
    "        upsamp_data = IR;\n",
    "        data_name = \"ir_i\";\n",
    "        baseline = input_sig;\n",
    "#         print(\"upsample_data: data_IR\")\n",
    "\n",
    "    else:\n",
    "        upsamp_data = input_sig;\n",
    "        data_name = \"sig_i\";\n",
    "        baseline = IR;\n",
    "\n",
    "#         print(\"upsample_data: data_in\")\n",
    "\n",
    "    return int(upsamp), upsamp_data, data_name, baseline"
   ]
  },
  {
   "cell_type": "markdown",
   "id": "fd38b03a",
   "metadata": {},
   "source": [
    "importing audio files"
   ]
  },
  {
   "cell_type": "code",
   "execution_count": 6,
   "id": "198760b3",
   "metadata": {},
   "outputs": [],
   "source": [
    "\"\"\"initiating some local .wav files\"\"\"\n",
    "\n",
    "mono = \"/Users/anniechu/Desktop/CantinaBand3.wav\"\n",
    "# mono = \"/Users/anniechu/Downloads/PinkPanther30.wav\"\n",
    "stereo = \"/Users/anniechu/Desktop/MutedPop.wav\""
   ]
  },
  {
   "cell_type": "code",
   "execution_count": 7,
   "id": "fb5d9996",
   "metadata": {},
   "outputs": [],
   "source": [
    "\"\"\" initiating sample Impulse Response .wav files \"\"\"\n",
    "\n",
    "ir1 = \"/Users/anniechu/Documents/artificialreverb/WireGrind-IR-44100-v2/mono/WireGrind_m_0.8s_06w_900Hz_02m.wav\"\n",
    "ir2 = \"xyx\"\n",
    "IR = ir1"
   ]
  },
  {
   "cell_type": "markdown",
   "id": "1c7a8d04",
   "metadata": {},
   "source": [
    "reading in file content"
   ]
  },
  {
   "cell_type": "code",
   "execution_count": 8,
   "id": "1ad0d057",
   "metadata": {},
   "outputs": [],
   "source": [
    "\"\"\"choosing files \"\"\"\n",
    "input_sig = mono\n",
    "IR = ir1"
   ]
  },
  {
   "cell_type": "code",
   "execution_count": 9,
   "id": "cdeb12aa",
   "metadata": {},
   "outputs": [],
   "source": [
    "\"\"\"CAN DELETE reading in input signal .wav file\"\"\"\n",
    "\n",
    "fs_in, data_in = wavfile.read(input_sig)\n",
    "fs_IR, data_IR = wavfile.read(IR)"
   ]
  },
  {
   "cell_type": "code",
   "execution_count": 10,
   "id": "97f2b715",
   "metadata": {},
   "outputs": [
    {
     "name": "stdout",
     "output_type": "stream",
     "text": [
      ".Wav Contents = [   3    7    0 ...  -12 -427 -227]\n",
      ".Wav Samples Length = 66150\n",
      ".Wav Channel(s) = 1\n",
      ".Wav Length = 3.0s\n",
      "Sampling Rate= 22050 Hz\n",
      "bit depth= <class 'numpy.int16'>\n",
      "sampling rate = 22050 Hz, length = 66150 samples => 3.0 s, channels = 1\n",
      "-------------\n",
      ".Wav Contents = [2147483392    -139264    -365824 ...      13568       8704      40448]\n",
      ".Wav Samples Length = 35280\n",
      ".Wav Channel(s) = 1\n",
      ".Wav Length = 0.8s\n",
      "Sampling Rate= 44100 Hz\n",
      "bit depth= <class 'numpy.int32'>\n",
      "sampling rate = 44100 Hz, length = 35280 samples => 0.8 s, channels = 1\n",
      "-------------\n"
     ]
    },
    {
     "data": {
      "image/png": "[encoded data removed]",
      "text/plain": [
       "<Figure size 432x288 with 1 Axes>"
      ]
     },
     "metadata": {
      "needs_background": "light"
     },
     "output_type": "display_data"
    },
    {
     "data": {
      "image/png": "[encoded data removed]",
      "text/plain": [
       "<Figure size 432x288 with 1 Axes>"
      ]
     },
     "metadata": {
      "needs_background": "light"
     },
     "output_type": "display_data"
    }
   ],
   "source": [
    "\"\"\"displaying contents\"\"\"\n",
    "display_data(input_sig, showgraphs=True)\n",
    "display_data(IR, showgraphs=True)"
   ]
  },
  {
   "cell_type": "markdown",
   "id": "f19e13b0",
   "metadata": {},
   "source": [
    "preparing files for convolution (making stereo, interpolating to same fs, normalizing)"
   ]
  },
  {
   "cell_type": "code",
   "execution_count": 11,
   "id": "2d36c3fc",
   "metadata": {},
   "outputs": [],
   "source": [
    "#STEREO-IZING"
   ]
  },
  {
   "cell_type": "code",
   "execution_count": 12,
   "id": "88e2699b",
   "metadata": {},
   "outputs": [],
   "source": [
    "\"\"\"making both stereo for simplicity\"\"\"\n",
    "sig_i, sig_ifs = makestereo(input_sig)\n",
    "ir_i, ir_ifs = makestereo(IR)"
   ]
  },
  {
   "cell_type": "code",
   "execution_count": null,
   "id": "4bd58502",
   "metadata": {},
   "outputs": [],
   "source": [
    "\"\"\"playing stereo files\"\"\"\n",
    "play_sig_i = play_sound(sig_i, sig_ifs)"
   ]
  },
  {
   "cell_type": "code",
   "execution_count": null,
   "id": "5a9cd88b",
   "metadata": {},
   "outputs": [],
   "source": [
    "play_sig_i.stop()"
   ]
  },
  {
   "cell_type": "code",
   "execution_count": null,
   "id": "e4498846",
   "metadata": {},
   "outputs": [],
   "source": [
    "\"\"\"playing stereo files (cont.)\"\"\"\n",
    "play_ir_i = play_sound(data_IR, fs_IR) #can sound bad"
   ]
  },
  {
   "cell_type": "code",
   "execution_count": null,
   "id": "855d57de",
   "metadata": {},
   "outputs": [],
   "source": [
    "play_ir_i.stop()"
   ]
  },
  {
   "cell_type": "code",
   "execution_count": null,
   "id": "8f2bcb37",
   "metadata": {},
   "outputs": [],
   "source": [
    "#MATCHING FS -- INTERPOLATION"
   ]
  },
  {
   "cell_type": "code",
   "execution_count": 13,
   "id": "a762f30b",
   "metadata": {},
   "outputs": [],
   "source": [
    "#pcm2float\n",
    "\"\"\"\n",
    "FUNCTION: using utility to convert int16 to float32 as convolving large numbers takes up too long\n",
    "\"\"\"\n",
    "def norm_signals(sig, IR):\n",
    "    normalized_sig = utility.pcm2float(sig, \"float32\")\n",
    "    normalized_IR = utility.pcm2float(IR, \"float32\")\n",
    "\n",
    "    return normalized_sig, normalized_IR\n"
   ]
  },
  {
   "cell_type": "code",
   "execution_count": 14,
   "id": "5dd2f369",
   "metadata": {},
   "outputs": [
    {
     "data": {
      "text/plain": [
       "[<matplotlib.lines.Line2D at 0x118f42e20>,\n",
       " <matplotlib.lines.Line2D at 0x118f42f10>]"
      ]
     },
     "execution_count": 14,
     "metadata": {},
     "output_type": "execute_result"
    },
    {
     "data": {
      "image/png": "[encoded data removed]",
      "text/plain": [
       "<Figure size 432x288 with 1 Axes>"
      ]
     },
     "metadata": {
      "needs_background": "light"
     },
     "output_type": "display_data"
    }
   ],
   "source": [
    "sig_inorm, ir_inorm = norm_signals(sig_i, ir_i)\n",
    "plt.plot(sig_inorm)\n",
    "plt.plot(ir_inorm)"
   ]
  },
  {
   "cell_type": "code",
   "execution_count": 26,
   "id": "18ea2edc",
   "metadata": {},
   "outputs": [],
   "source": [
    "from scipy.interpolate import interp1d\n",
    "\"\"\"\n",
    "upsampling dataset as given by match_fs function\n",
    "\"\"\"\n",
    "def upsample(sig1, sig1_fs, sig2, sig2_fs, showgraphs = False):\n",
    "    upsamp, up_data, up_dataname, baseline_data = match_fs(sig1_fs, sig2_fs, sig1, sig2)\n",
    "    \n",
    "    k = np.arange(len(up_data))\n",
    "    print(f\"k = {k}\")\n",
    "    print(f\"up_data[:,0] = {up_data[:,0]}\")\n",
    "\n",
    "    #inserting zeros in between original sample\n",
    "    n = up_data.shape\n",
    "    size = n[0]\n",
    "    zeroed = np.zeros(upsamp*size, dtype = float)\n",
    "    print(f\"zeros = {zeroed}\")\n",
    "    zeroed = np.stack((zeroed, zeroed), axis = -1)\n",
    "    zeroed[:,0][::upsamp] = up_data[:,0]\n",
    "    print(f\"updata[:,0] = {up_data[:,0]} \")\n",
    "    zeroed[:,1][::upsamp] = up_data[:,1]\n",
    "    print(f\"zeroed inserted = {zeroed}\")\n",
    "    k_up = np.arange(len(zeroed))\n",
    "    print(k_up)\n",
    "    # print(k_up[zeroed[0]!=0])\n",
    "\n",
    "    # # #upsampling & interpolation\n",
    "    interp_L = np.interp(k_up, k_up[zeroed[:,0]!=0], zeroed[:,0][zeroed[:,0]!=0])\n",
    "    interp_R = np.interp(k_up, k_up[zeroed[:,1]!=0], zeroed[:,1][zeroed[:,1]!=0])\n",
    "    data_interp = np.stack((interp_L, interp_R) , axis = -1)\n",
    "    print(f\"New Upsamp&Interp Data = {data_interp}, upsamp factor = {upsamp}\" )\n",
    "\n",
    "    print(data_interp.dtype)\n",
    "    if showgraphs==True:\n",
    "        plt.figure() #original signal\n",
    "        plt.plot(k,up_data)\n",
    "        plt.ylim([-4000, 4000])\n",
    "        plt.xlabel('Sample [k]')\n",
    "        plt.ylabel('amplitude')\n",
    "        plt.title('original signal')\n",
    "        \n",
    "        plt.figure() #upsampled signal -- inserted 0s\n",
    "        plt.plot(k_up,out)\n",
    "        plt.ylim([-4000, 4000])\n",
    "        plt.xlabel('Sample [k]')\n",
    "        plt.ylabel('amplitude')\n",
    "        plt.title('upsampled signal')\n",
    "        \n",
    "        plt.figure() #interpolated signal -- output\n",
    "        plt.plot(k_up,out)\n",
    "        plt.plot(k_up, data_interp)\n",
    "        plt.xlim([15000, 16000])\n",
    "        plt.ylim([-4000, 4000])\n",
    "        plt.xlabel('Sample [k]')\n",
    "        plt.ylabel('amplitude')\n",
    "        plt.title('interpolated signal')\n",
    "        plt.legend(['upsampled', \"interpolated\"])\n",
    "    \n",
    "\n",
    "    return data_interp, baseline_data\n"
   ]
  },
  {
   "cell_type": "code",
   "execution_count": 30,
   "id": "84fed7ea",
   "metadata": {},
   "outputs": [
    {
     "name": "stdout",
     "output_type": "stream",
     "text": [
      "k = [    0     1     2 ... 66147 66148 66149]\n",
      "up_data[:,0] = [ 9.1552734e-05  2.1362305e-04  0.0000000e+00 ... -3.6621094e-04\n",
      " -1.3031006e-02 -6.9274902e-03]\n",
      "zeros = [0. 0. 0. ... 0. 0. 0.]\n",
      "updata[:,0] = [ 9.1552734e-05  2.1362305e-04  0.0000000e+00 ... -3.6621094e-04\n",
      " -1.3031006e-02 -6.9274902e-03] \n",
      "zeroed inserted = [[ 9.15527344e-05  9.15527344e-05]\n",
      " [ 0.00000000e+00  0.00000000e+00]\n",
      " [ 2.13623047e-04  2.13623047e-04]\n",
      " ...\n",
      " [ 0.00000000e+00  0.00000000e+00]\n",
      " [-6.92749023e-03 -6.92749023e-03]\n",
      " [ 0.00000000e+00  0.00000000e+00]]\n",
      "[     0      1      2 ... 132297 132298 132299]\n",
      "New Upsamp&Interp Data = [[ 9.15527344e-05  9.15527344e-05]\n",
      " [ 1.52587891e-04  1.52587891e-04]\n",
      " [ 2.13623047e-04  2.13623047e-04]\n",
      " ...\n",
      " [-9.97924805e-03 -9.97924805e-03]\n",
      " [-6.92749023e-03 -6.92749023e-03]\n",
      " [-6.92749023e-03 -6.92749023e-03]], upsamp factor = 2\n",
      "float64\n"
     ]
    },
    {
     "data": {
      "text/plain": [
       "[<matplotlib.lines.Line2D at 0x11d392c10>,\n",
       " <matplotlib.lines.Line2D at 0x11d392d00>]"
      ]
     },
     "execution_count": 30,
     "metadata": {},
     "output_type": "execute_result"
    },
    {
     "data": {
      "image/png": "[encoded data removed]",
      "text/plain": [
       "<Figure size 432x288 with 1 Axes>"
      ]
     },
     "metadata": {
      "needs_background": "light"
     },
     "output_type": "display_data"
    }
   ],
   "source": [
    "upsampled_sig1, sig2 = upsample(sig_inorm, sig_ifs, ir_inorm, ir_ifs)\n",
    "plt.plot(upsampled_sig1)\n",
    "plt.plot(sig2)"
   ]
  },
  {
   "cell_type": "code",
   "execution_count": 25,
   "id": "531e23d6",
   "metadata": {},
   "outputs": [
    {
     "name": "stdout",
     "output_type": "stream",
     "text": [
      "k = [    0     1     2 ... 66147 66148 66149]\n",
      "up_data[:,0] = [   3    7    0 ...  -12 -427 -227]\n",
      "zeros = [0. 0. 0. ... 0. 0. 0.]\n",
      "updata[:,0] = [   3    7    0 ...  -12 -427 -227] \n",
      "zeroed inserted = [[   3.    3.]\n",
      " [   0.    0.]\n",
      " [   7.    7.]\n",
      " ...\n",
      " [   0.    0.]\n",
      " [-227. -227.]\n",
      " [   0.    0.]]\n",
      "[     0      1      2 ... 132297 132298 132299]\n",
      "New Upsamp&Interp Data = [[   3.    3.]\n",
      " [   5.    5.]\n",
      " [   7.    7.]\n",
      " ...\n",
      " [-327. -327.]\n",
      " [-227. -227.]\n",
      " [-227. -227.]], upsamp factor = 2\n",
      "float64\n"
     ]
    }
   ],
   "source": [
    "# up_data = np.array([0.9, 0.45, .02, .3, .4])\n",
    "# up_data = np.stack((up_data, up_data), axis=-1)\n",
    "# upsamp = 2\n",
    "\n",
    "k = np.arange(len(up_data))\n",
    "print(f\"k = {k}\")\n",
    "print(f\"up_data[:,0] = {up_data[:,0]}\")\n",
    "\n",
    "#inserting zeros in between original sample\n",
    "n = up_data.shape\n",
    "size = n[0]\n",
    "zeroed = np.zeros(upsamp*size, dtype = float)\n",
    "print(f\"zeros = {zeroed}\")\n",
    "zeroed = np.stack((zeroed, zeroed), axis = -1)\n",
    "zeroed[:,0][::upsamp] = up_data[:,0]\n",
    "print(f\"updata[:,0] = {up_data[:,0]} \")\n",
    "zeroed[:,1][::upsamp] = up_data[:,1]\n",
    "print(f\"zeroed inserted = {zeroed}\")\n",
    "k_up = np.arange(len(zeroed))\n",
    "print(k_up)\n",
    "# print(k_up[zeroed[0]!=0])\n",
    "\n",
    "# # #upsampling & interpolation\n",
    "interp_L = np.interp(k_up, k_up[zeroed[:,0]!=0], zeroed[:,0][zeroed[:,0]!=0])\n",
    "interp_R = np.interp(k_up, k_up[zeroed[:,1]!=0], zeroed[:,1][zeroed[:,1]!=0])\n",
    "data_interp = np.stack((interp_L, interp_R) , axis = -1)\n",
    "print(f\"New Upsamp&Interp Data = {data_interp}, upsamp factor = {upsamp}\" )\n",
    "\n",
    "print(data_interp.dtype)\n"
   ]
  },
  {
   "cell_type": "code",
   "execution_count": null,
   "id": "80f5dc17",
   "metadata": {},
   "outputs": [],
   "source": []
  }
 ],
 "metadata": {
  "kernelspec": {
   "display_name": "Python 3",
   "language": "python",
   "name": "python3"
  },
  "language_info": {
   "codemirror_mode": {
    "name": "ipython",
    "version": 3
   },
   "file_extension": ".py",
   "mimetype": "text/x-python",
   "name": "python",
   "nbconvert_exporter": "python",
   "pygments_lexer": "ipython3",
   "version": "3.8.8"
  }
 },
 "nbformat": 4,
 "nbformat_minor": 5
}
