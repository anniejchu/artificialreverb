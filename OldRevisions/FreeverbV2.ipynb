{
 "cells": [
  {
   "cell_type": "markdown",
   "id": "1395f4d0",
   "metadata": {},
   "source": [
    "## Freeverb V2\n",
    "#### Annie Chu\n",
    "Implementing Freeverb algorithms again\n",
    "\n",
    "Last Updated: Oct 30, 2021\n",
    "\n",
    "UPDATES - reverb sounds scaled back and much better now!\n",
    "\n",
    "1) fixed lp_comb difference eq\n",
    "\n",
    "2) cleaned up freeverb class code \n",
    "\n",
    "    - added consolidated L vs R reverb def via switch case\n",
    "    \n",
    "    - added functions: 1) normalizing 2) mixing 3) reglueing L/R outputs into one sig_out\n",
    "    \n",
    "    - added some test functions\n",
    " \n",
    "3) added scaling to delays based on input \n",
    "\n",
    "    - Added linear interpolation into the filters\n",
    "    \n",
    "    \n",
    "NEXT STEPS\n",
    "1) add in design element for reverb parameter inputs (ie what size room?, what material?,etc)\n",
    "\n",
    "2) move filter print functions into test functions\n",
    "\n",
    "3) comments for each block\n",
    "   "
   ]
  },
  {
   "cell_type": "code",
   "execution_count": 1,
   "id": "3e7a75c3",
   "metadata": {},
   "outputs": [],
   "source": [
    "import numpy as np\n",
    "import matplotlib as mpl\n",
    "import matplotlib.pyplot as plt\n",
    "from scipy import signal\n",
    "from scipy.io import wavfile\n",
    "import simpleaudio as sa\n",
    "from matplotlib.pyplot import figure\n",
    "import math"
   ]
  },
  {
   "cell_type": "markdown",
   "id": "901b1aa0",
   "metadata": {},
   "source": [
    "## Building Freeverb Filter Blocks\n",
    "\n",
    "Feedback Comb & All Pass Filters via Difference Equations"
   ]
  },
  {
   "cell_type": "code",
   "execution_count": 2,
   "id": "ef6e429f",
   "metadata": {},
   "outputs": [],
   "source": [
    "# creating feedback comb filter\n",
    "def comb(x_n, g, d):\n",
    "    # x_n is numpy array of initial samples\n",
    "    y_n = np.zeros(len(x_n));\n",
    "    y_n0 = np.zeros(len(x_n)); \n",
    "    y_n1 = np.zeros(len(x_n));\n",
    "    if type(d) == int:\n",
    "        for i in range(len(x_n)):\n",
    "            if i-d < 0:\n",
    "                y_n[i] = x_n[i]\n",
    "            else:\n",
    "                y_n[i] = x_n[i] + g*y_n[i-d]\n",
    "    elif type(d) == float:\n",
    "        for i in range(len(x_n)):\n",
    "            down = math.floor(i-d)\n",
    "            up = math.ceil(i-d)\n",
    "            y_mid = y_n[down] + (((y_n[up] - y_n[down])/(up - down)) * ((i-d) - down)) \n",
    "            if i-d < 0:\n",
    "                y_n[i] = x_n[i]\n",
    "            else:\n",
    "                y_n[i] = x_n[i] + g*y_mid\n",
    "                \n",
    "            \n",
    "                print(F\" n = {i} | d = {d} | n-d = {i-d}\")\n",
    "#                 print(F\" Round Down {i-1.5} : {down} | Round Up {i-1.5} : {up}\")\n",
    "#                 print(F\" Y({down}): {y_n[down]} | Y({up}): {y_n[up]}\")\n",
    "#                 print(F\" Y({i-1.5}) = {0.5*(y_n[up] + y_n[down])}\")\n",
    "#                 print('-----')\n",
    "\n",
    "    return y_n"
   ]
  },
  {
   "cell_type": "code",
   "execution_count": 3,
   "id": "e1c1154d",
   "metadata": {},
   "outputs": [
    {
     "name": "stdout",
     "output_type": "stream",
     "text": [
      " n = 2 | d = 1.5 | n-d = 0.5\n",
      " n = 3 | d = 1.5 | n-d = 1.5\n",
      " n = 4 | d = 1.5 | n-d = 2.5\n",
      " n = 5 | d = 1.5 | n-d = 3.5\n",
      "[1.      1.      0.75    2.375   4.1875  6.09375]\n",
      "[1.    0.5   0.75  2.25  3.375 5.125]\n",
      "[1.         0.5        0.625      2.28125    3.7265625  5.50195312]\n"
     ]
    }
   ],
   "source": [
    "#testing comb\n",
    "x0 = np.array([1.0, 0.5, 0.25, 2, 3, 4])\n",
    "\n",
    "x = comb(x0, 0.5, 1)\n",
    "y = comb(x0, 0.5, 2)\n",
    "\n",
    "z = comb(x0, 0.5, 1.5)\n",
    "\n",
    "print(x)\n",
    "print(y)\n",
    "print(z)"
   ]
  },
  {
   "cell_type": "code",
   "execution_count": 4,
   "id": "e1236980",
   "metadata": {},
   "outputs": [],
   "source": [
    "def allpass(x_n, g, d):\n",
    "    # x_n is numpy array of initial samples\n",
    "    y_n = np.zeros(len(x_n));\n",
    "    \n",
    "    if type(d) == int:\n",
    "        for i in range(len(x_n)):\n",
    "            if i-d < 0:\n",
    "                y_n[i] = g*x_n[i]\n",
    "            else:\n",
    "                y_n[i] = g*x_n[i] + x_n[i-d] - g*y_n[i-d]\n",
    "            \n",
    "    elif type(d) == float: \n",
    "        for i in range(len(x_n)):\n",
    "            down = math.floor(i-d)\n",
    "            up = math.ceil(i-d)\n",
    "            \n",
    "            if i-d < 0:\n",
    "                y_n[i] = g*x_n[i]\n",
    "\n",
    "            else:\n",
    "                x_mid = x_n[down] + ((x_n[up] - x_n[down]) * ((i-d) - down))\n",
    "                y_mid =  y_n[down] + ((y_n[up] - y_n[down]) * ((i-d) - down))\n",
    "                y_n[i] = g*x_n[i] + x_mid - g*y_mid\n",
    "\n",
    "    return y_n"
   ]
  },
  {
   "cell_type": "code",
   "execution_count": 5,
   "id": "b2dda78c",
   "metadata": {},
   "outputs": [
    {
     "name": "stdout",
     "output_type": "stream",
     "text": [
      "[0.5      1.       0.125    1.1875   2.90625  3.546875]\n",
      "[0.5    0.25   0.875  1.375  1.3125 3.3125]\n",
      "[0.5    0.25   0.125  1.     2.025  2.2625]\n"
     ]
    }
   ],
   "source": [
    "#testing all pass TODO: TEST THIS\n",
    "x3 = np.array([1.0, 0.5, 0.25, 2, 3, 4])\n",
    "\n",
    "print(allpass(x3, 0.5, 1))\n",
    "print(allpass(x3, 0.5, 2))\n",
    "\n",
    "print(allpass(x3, 0.5, 3.4))"
   ]
  },
  {
   "cell_type": "code",
   "execution_count": 6,
   "id": "1e2416e6",
   "metadata": {},
   "outputs": [],
   "source": [
    "def lp_comb(x_n, g, d, sg):\n",
    "    \"\"\"\n",
    "    # x_n -> numpy array of initial samples\n",
    "    # g -> damp = initialdamp*scaledamp\n",
    "        `damping'' parameter controls how rapidly T60 shortens as a function of increasing frequency.\n",
    "        \n",
    "    # sg -> lowpass scale factor = room size = initialroom*scaleroom + offsetroom\n",
    "        - RoomSize (range: 0 to 1) -- controls the length of the reverb, a higher value means longer reverb\n",
    "        - The feedback variable f (sg here) mainly determines reverberation time at low-frequencies \n",
    "            at which the feedback lowpass has negligible effect. \n",
    "        The feedback lowpass causes the reverberation time to decrease with frequency, which is natural.\n",
    "        room size'' parameter can be interpreted as setting the low-frequency T60 (time to decay 60 dB) \n",
    "    \n",
    "    https://ccrma.stanford.edu/~jos/Reverb/Freeverb_Parameters.html\n",
    "    \"\"\"\n",
    "    y_n = np.zeros(len(x_n));\n",
    "    \n",
    "    if type(d) == int:\n",
    "#         print(\"y_n[i] = x_n[i] - g*x_n[i-1] + g*y_n[i-1] + sg*(1-g)*y_n[i-d]\")\n",
    "        for i in range(len(x_n)):\n",
    "            if i-d < 0 and i-1 < 0:\n",
    "                y_n[i] = x_n[i]\n",
    "#                 print(F\"C1: I = {i} D = {d} | I-D = NEG = {i-d} | i-1 = NEG = {i-1}\")\n",
    "#                 print(F\"CHECKING... y_n[{i}] = {y_n[i]} SHOULD = {x_n[i]}\")\n",
    "            elif i-d < 0 and i-1 >= 0:\n",
    "                y_n[i] = x_n[i] - g*x_n[i-1] + g*y_n[i-1]\n",
    "#                 print(F\"C2: I = {i}  D = {d}| I-D = NEG = {i-d} | i-1 = >= 0 = {i-1}\")\n",
    "#                 print(F\"CHECKING...y_n[{i}] =  {y_n[i]} SHOULD = {x_n[i]} - 0.5*{x_n[i-1]} + 0.5*{y_n[i-1]}\")\n",
    "            else:\n",
    "                y_n[i] = x_n[i] - g*x_n[i-1] + g*y_n[i-1] + sg*(1-g)*y_n[i-d]\n",
    "#                 print(F\"C3: I = {i}  D = {d}| I-D = pos = {i-d} | i-1 = pos = {i-1}\")\n",
    "#                 print(F\"CHECKING...y_n[{i}] =  {y_n[i]} SHOULD = {x_n[i]} - 0.5*{x_n[i-1]} + 0.5*{y_n[i-1]}+ 1*0.5*{y_n[i-d]}\")\n",
    "        \n",
    "    elif type(d) == float:\n",
    "        for i in range(len(x_n)):            \n",
    "            if i-d < 0 and i-1 < 0:\n",
    "#                 print(\"case 0: y_n[i] = x_n[i] \")\n",
    "                y_n[i] = x_n[i]\n",
    "            elif i-d < 0 and i-1 > 0:\n",
    "#                 print(\"case 1: y_n[i] = x_n[i] - g*x_1 + g*y_1\")\n",
    "                down1 = math.floor(i-1)\n",
    "                up1 = math.ceil(i-1) \n",
    "                x_1 = 0.5*(x_n[up1] + x_n[down1])\n",
    "                y_1 = 0.5*(y_n[up1] + y_n[down1])\n",
    "                x_1 = x_n[down1] + ((x_n[up1] - x_n[down1]) * ((i-1) - down1))\n",
    "                y_1 =  y_n[down1] + ((y_n[up1] - y_n[down1]) * ((i-1) - down1)) \n",
    "                y_n[i] = x_n[i] - g*x_1 + g*y_1\n",
    "#                 print(f\"y_n[{i}] = {x_n[i]} - {g*x_1} + {g*y_1}\")\n",
    "            elif i-d >=0: \n",
    "#                 print(\"case 2: both pos, \")\n",
    "                down = math.floor(i-d)\n",
    "                up = math.ceil(i-d)\n",
    "                down1 = math.floor(i-1)\n",
    "                up1 = math.ceil(i-1) \n",
    "                x_1 = x_n[down1] + ((x_n[up1] - x_n[down1]) * ((i-1) - down1))\n",
    "                y_1 =  y_n[down1] + ((y_n[up1] - y_n[down1]) * ((i-1) - down1)) \n",
    "                \n",
    "                x_mid = x_n[down] + ((x_n[up] - x_n[down]) * ((i-d) - down))\n",
    "#                 print(f\"x_mid[{i}] = {x_mid} = {x_n[down]} + (({x_n[up]} - {x_n[down]}) * (({i-d}) - {down})\")\n",
    "\n",
    "                y_mid =  y_n[down] + ((y_n[up] - y_n[down]) * ((i-d) - down)) \n",
    "#                 print(f\"y_mid[{i}] = {y_mid} = {y_n[down]} + (({y_n[up]} - {y_n[down]})) * (({i-d}) - {down})\")\n",
    "                \n",
    "                \n",
    "                y_n[i] = x_n[i] - g*x_1 + g*y_1 + sg*(1-g)*y_mid\n",
    "#                 print(f\" y_n[{i}] = {y_n[i]} = {x_n[i]} - g*{x_1} + g*{y_1} + sg*(1-g)*{y_mid}\")\n",
    "#                 print(y_n)\n",
    "        \n",
    "    return y_n"
   ]
  },
  {
   "cell_type": "code",
   "execution_count": 7,
   "id": "043e69c2",
   "metadata": {},
   "outputs": [
    {
     "name": "stdout",
     "output_type": "stream",
     "text": [
      "[1.       0.       0.       1.886    2.943    4.045054]\n"
     ]
    }
   ],
   "source": [
    "#testing lp_comb\n",
    "x1 = np.array([1.0, 0.5, 0.25, 2, 3, 4])\n",
    "\n",
    "y1 = lp_comb(x1, 0.5, 2.22, 0.1)\n",
    "print(y1)"
   ]
  },
  {
   "cell_type": "code",
   "execution_count": 8,
   "id": "dbe3a530",
   "metadata": {},
   "outputs": [
    {
     "data": {
      "text/plain": [
       "array([  20.        ,    0.        ,   32.        ,   60.4       ,\n",
       "         86.28      ,  590.396     ,  893.5772    ,  999.82404   ,\n",
       "       1008.510828  , 1018.5113796 , 1093.95562572, 1195.2578    ,\n",
       "       1285.0603634 , 1350.68857676, 1398.1087024 ])"
      ]
     },
     "execution_count": 8,
     "metadata": {},
     "output_type": "execute_result"
    }
   ],
   "source": [
    "chan = np.array([20, 40, 60, 80, 100, 600, 900, 1000, 1000, 1000, 1000, 1000, 1000, 1000, 1000])\n",
    "# comb_delay = np.array([5.44217687, 5.66893424, 5.89569161, 6.12244898, 6.34920635])\n",
    "# d = comb_delay[3]\n",
    "lp_comb(chan, 0.7, 5.1, 0.5) #change delay (3rd value)"
   ]
  },
  {
   "cell_type": "markdown",
   "id": "757aac77",
   "metadata": {},
   "source": [
    "## Creating Freeverb Class"
   ]
  },
  {
   "cell_type": "code",
   "execution_count": 9,
   "id": "821ff684",
   "metadata": {},
   "outputs": [],
   "source": [
    "class new_fverb:\n",
    "    def __init__(self, comb_g, comb_sg, comb_d, ap_g, ap_d, x_g):\n",
    "        self.comb_g = comb_g\n",
    "        self.comb_sg = comb_sg\n",
    "        self.comb_d = comb_d\n",
    "        self.ap_g = ap_g\n",
    "        self.ap_d = ap_d\n",
    "        self.x_g = x_g\n",
    "        self.right_d = 23\n",
    "        #set once audio file is read in\n",
    "        self.x = 0\n",
    "        self.scale_fs = 0\n",
    "                    \n",
    "    '''SCALING DELAYS WITH INPUT SIGNAL SAMPLING FREQUENCY'''\n",
    "    def scale_delays(self):\n",
    "        s_comb_d = (self.scale_fs/44100)*np.array(self.comb_d)\n",
    "        s_ap_d = (self.scale_fs/44100)*np.array(self.ap_d)\n",
    "        s_right_d = (self.scale_fs/44100)*self.right_d\n",
    "        return s_comb_d, s_ap_d, s_right_d\n",
    "    \n",
    "    '''SPLITTING L/R CHANNEL INFO AND ADDING SCALED L/R DELAYS'''\n",
    "    def set_chparam(self, ch):\n",
    "        s_comb_d, s_ap_d, s_right_d = self.scale_delays()\n",
    "        if (ch == \"left\"):\n",
    "            x_ch = self.x[:,0]\n",
    "            sch_comb_d = s_comb_d\n",
    "            sch_ap_d = s_ap_d\n",
    "        elif (ch == \"right\"):\n",
    "            x_ch = self.x[:,1]\n",
    "            sch_comb_d = s_comb_d + s_right_d\n",
    "            sch_ap_d = s_ap_d + s_right_d\n",
    "\n",
    "        return x_ch, sch_comb_d, sch_ap_d\n",
    "    \n",
    "    def apply_reverb(self, ch): #ch either \"left\" or \"right\"\n",
    "        chan, comb_delay, ap_delay = self.set_chparam(ch)\n",
    "#         print(f\"channel is {ch}, gives {chan}, SCALED: comb_d {comb_delay}, ap_d {ap_delay}\")\n",
    "        yc = [0]*len(comb_delay)\n",
    "        yap = [0]*len(ap_delay)\n",
    "        yc_out = 0\n",
    "        yap_out = 0\n",
    "        \n",
    "        '''1) Comb Filter Stage (Parallel)'''\n",
    "        for i in range(len(comb_delay)):\n",
    "            yc[i] = lp_comb(chan, self.comb_g, float(comb_delay[i]), self.comb_sg) #creating 8 comb filters \n",
    "            yc_out += yc[i] #adding 8 comb filters in parallel\n",
    "#             print(f\"yc{i} = {yc[i]}\")\n",
    "#             print(f\"yc_out = {yc_out}\")\n",
    "\n",
    "        ''' 2) All Pass Filter Stage (Series)'''\n",
    "        for i in range(len(ap_delay)):\n",
    "            #creating 4 all pass filters\n",
    "            if i == 0:\n",
    "                yap[i] = allpass(yc_out, self.ap_g, float(ap_delay[i]))\n",
    "            else:\n",
    "                yap[i] = allpass(yap[i-1], self.ap_g, float(ap_delay[i]))\n",
    "#             print(f\"yap[{i}] = {yap[i]}\")\n",
    "\n",
    "        yap_out = yap[len(ap_delay)-1]\n",
    "\n",
    "        return chan, yap_out, yap, yc_out, yc #last 2 not used, for testing\n",
    "\n",
    "    def raw_mix(self):\n",
    "        Lchan, Lyap_out, Lyap_test, Lyc_out_test, Lyc = self.apply_reverb(\"left\")\n",
    "        Rchan, Ryap_out, Ryap_test, Ryc_out_test, Ryc = self.apply_reverb(\"right\")\n",
    "        lMix_out = Lyap_out  + (self.x_g*Lchan) #SHOULD BE FLOATS\n",
    "        rMix_out = Ryap_out  + (self.x_g*Rchan) \n",
    "        \n",
    "        return lMix_out, rMix_out\n",
    "    \n",
    "    def norm_mix(self):\n",
    "        Lmix, Rmix = self.raw_mix()\n",
    "        Lmix_norm = np.int16(Lmix/np.max(np.abs(Lmix)) * 32767)\n",
    "        Rmix_norm = np.int16(Rmix/np.max(np.abs(Rmix)) * 32767)\n",
    "        return Lmix_norm, Rmix_norm\n",
    "    \n",
    "    def out_mix(self):\n",
    "        Lmix_norm, Rmix_norm = self.norm_mix()\n",
    "        out_mix = np.stack((Lmix_norm, Rmix_norm), axis=-1)\n",
    "        return out_mix\n",
    "    '''\n",
    "    TEST BENCHES\n",
    "    '''\n",
    "    def test_scale_delays(self):\n",
    "        cd, apd, right_d = self.scale_delays()\n",
    "        print(f\"scaling fs = {self.scale_fs}\")\n",
    "        print(f\"scaled dc is {cd} should be {self.scale_fs/44100} * {self.comb_d}\")\n",
    "        print(f\"ap delay is {apd} should be {self.scale_fs/44100} * {self.ap_d}\")\n",
    "        print(f\"right delay is {right_d} should be {self.scale_fs/44100} * {self.right_d}\")\n",
    "    def test_set_chparam(self):\n",
    "        x_chan, combd_scaled, apd_scaled = self.set_chparam(\"left\")\n",
    "        x_chan1, combd_scaled1, apd_scaled1 = self.set_chparam(\"right\")\n",
    "        print(f\"Channel: L | Channel Data should be {self.scale_fs/44100} * {self.x[:,0]}, IS {x_chan}\")\n",
    "        print(f\"Channel: L | comb_d should be {self.scale_fs/44100} * {self.comb_d}, IS  {combd_scaled}\")\n",
    "        print(f\"Channel: L | ap_d should be {self.scale_fs/44100} * {self.ap_d}, IS  {apd_scaled}\")\n",
    "        print(\"---------------------------------------------------------------------\")\n",
    "        print(f\"Channel: R | Channel Data should be {self.scale_fs/44100} * {self.x[:,1]}, IS {x_chan1}\")\n",
    "        print(f\"Channel: R | comb_d should be {self.scale_fs/44100} * ({self.comb_d} + {self.right_d}), IS  {combd_scaled1}\")\n",
    "        print(f\"Channel: R | ap_d should be {self.scale_fs/44100} * ({self.ap_d} + {self.right_d}), IS  {apd_scaled1}\")\n",
    "    def test_apply_reverb(self, ch):\n",
    "        chan, yap_out, yap_test, yc_out_test, yc_test = self.apply_reverb(ch)\n",
    "        print(f\"{ch} channel data ==> {chan}\")\n",
    "        print(\"----> initiating reverb process...\")\n",
    "              \n",
    "        print(\"-----------> printing comb filter stage results...\")  \n",
    "        for i in range(len(yc_test)):\n",
    "            print(f\"yc{i} = {yc_test[i]}\")\n",
    "              \n",
    "        print(\"-----------> comb filter stage output...\")  \n",
    "        print(f\"yc_out = {yc_out_test}\")\n",
    "              \n",
    "        print(\"-----------> printing all-pass filter stage...\")  \n",
    "        for i in range(len(yap_test)):\n",
    "            print(f\"yap{i} = {yap_test[i]}\")\n",
    "                \n",
    "        print(\"-----------> comb filter stage output...\")  \n",
    "        print(f\"yap_out = {yap_out}\")\n",
    "    def test_raw_mix(self):\n",
    "        Lmix_out, Rmix_out = self.raw_mix()\n",
    "        print(f\"Left Mix (Rev + Original) = {Lmix_out}\")\n",
    "        print(f\"Right Mix (Rev + Original) = {Rmix_out}\")\n",
    "    def test_norm_mix(self):\n",
    "        Lmix_norm, Rmix_norm = self.norm_mix()\n",
    "        print(f\"Left Mix (Normalized) = {Lmix_norm}\")\n",
    "        print(f\"Right Mix (Normalized) = {Rmix_norm}\")\n",
    "    def test_out_mix(self):\n",
    "        outmix = self.out_mix()\n",
    "        print(f\"Out Signal = {outmix}\")\n",
    "        print(f\"Left Side = {outmix[:,0]}\")\n",
    "        print(f\"Right Side = {outmix[:,1]}\")\n",
    "        \n",
    "        "
   ]
  },
  {
   "cell_type": "markdown",
   "id": "e02ea44e",
   "metadata": {},
   "source": [
    "## Testing Reverb Class"
   ]
  },
  {
   "cell_type": "code",
   "execution_count": 10,
   "id": "b2311f0f",
   "metadata": {},
   "outputs": [
    {
     "name": "stdout",
     "output_type": "stream",
     "text": [
      "comb & secondary gain is 0.1 & 0.2 & 0.3 & 0.4, should be 0.1 & 0.2 & 0.3 & 0.4\n",
      "comb delay is [1, 2, 3, 4, 5] should be [1, 2, 3, 4, 5]\n",
      "ap delay is [10, 20, 30] should be [10, 20, 30]\n"
     ]
    }
   ],
   "source": [
    "\"\"\"\n",
    "TEST: INITIATING INDIVIDIAL CLASS FUNCTION TESTS\n",
    "    passing in input data, all variables are now set in class\n",
    "\"\"\"\n",
    "#initiating new freeverb class instance\n",
    "testy = new_fverb(\n",
    "    0.1, 0.2,  #comb gain & secondary gain\n",
    "    [1, 2, 3, 4, 5],#DELAY comb\n",
    "    0.3, #ap gain\n",
    "    [10, 20, 30], #all pass delay\n",
    "    0.4)\n",
    "\n",
    "print(f\"comb & secondary gain is {testy.comb_g} & {testy.comb_sg} & {testy.ap_g} & {testy.x_g}, should be 0.1 & 0.2 & 0.3 & 0.4\")\n",
    "print(f\"comb delay is {testy.comb_d} should be [1, 2, 3, 4, 5]\")\n",
    "print(f\"ap delay is {testy.ap_d} should be [10, 20, 30]\")\n"
   ]
  },
  {
   "cell_type": "code",
   "execution_count": 11,
   "id": "3f9a8b32",
   "metadata": {},
   "outputs": [
    {
     "name": "stdout",
     "output_type": "stream",
     "text": [
      "[[1 2]\n",
      " [3 4]\n",
      " [5 6]]\n",
      "[2 4 6]\n",
      "44100\n"
     ]
    }
   ],
   "source": [
    "\"\"\"\n",
    "TEST: PASSING IN DATA\n",
    "    Passing in input signal (x_in) info to class instance -- 1) x_in data and 2) x_in sampling frequency\n",
    "\"\"\"\n",
    "signal = np.array([[1,2],[3,4],[5,6]])\n",
    "signal_fs = 44100\n",
    "\n",
    "testy.x = signal\n",
    "testy.scale_fs = signal_fs\n",
    "\n",
    "print(testy.x)\n",
    "print(testy.x[:,1])\n",
    "print(testy.scale_fs)"
   ]
  },
  {
   "cell_type": "code",
   "execution_count": 12,
   "id": "9fcfcdf8",
   "metadata": {},
   "outputs": [
    {
     "name": "stdout",
     "output_type": "stream",
     "text": [
      "scaling fs = 11025.0\n",
      "scaled dc is [0.25 0.5  0.75 1.   1.25] should be 0.25 * [1, 2, 3, 4, 5]\n",
      "ap delay is [2.5 5.  7.5] should be 0.25 * [10, 20, 30]\n",
      "right delay is 5.75 should be 0.25 * 23\n"
     ]
    }
   ],
   "source": [
    "\"\"\"\n",
    "TEST: FUNCTION scale_delays\n",
    "    This function scales delays according to the x_in (input sig) sampling frequency.\n",
    "\"\"\"\n",
    "testy.scale_fs = 44100/4 #play around with this, should change values\n",
    "testy.test_scale_delays()"
   ]
  },
  {
   "cell_type": "code",
   "execution_count": 13,
   "id": "d417fa1e",
   "metadata": {},
   "outputs": [
    {
     "name": "stdout",
     "output_type": "stream",
     "text": [
      "Channel: L | Channel Data should be 1.0 * [1 3 5], IS [1 3 5]\n",
      "Channel: L | comb_d should be 1.0 * [1, 2, 3, 4, 5], IS  [1. 2. 3. 4. 5.]\n",
      "Channel: L | ap_d should be 1.0 * [10, 20, 30], IS  [10. 20. 30.]\n",
      "---------------------------------------------------------------------\n",
      "Channel: R | Channel Data should be 1.0 * [2 4 6], IS [2 4 6]\n",
      "Channel: R | comb_d should be 1.0 * ([1, 2, 3, 4, 5] + 23), IS  [24. 25. 26. 27. 28.]\n",
      "Channel: R | ap_d should be 1.0 * ([10, 20, 30] + 23), IS  [33. 43. 53.]\n"
     ]
    }
   ],
   "source": [
    "\"\"\"\n",
    "TEST: FUNCTION set_chparam()\n",
    "    Takes in a string (\"left\" or \"right\"), representing the left or right channel of the two-channel stereo x_in. \n",
    "    Returns the chosen channel's x_in data & channel-specific parameters to be passed in the reverb function\n",
    "\"\"\"\n",
    "testy.scale_fs = 44100 #can play around with this, should change values\n",
    "testy.test_set_chparam()"
   ]
  },
  {
   "cell_type": "code",
   "execution_count": 14,
   "id": "6e79c51e",
   "metadata": {},
   "outputs": [],
   "source": [
    "\"\"\"\n",
    "TESTING FUNCTION apply_reverb()\n",
    "    Takes in chosen channel as string, applies respective reverb\n",
    "\"\"\"\n",
    "testy1 = new_fverb(\n",
    "    0.8, 0.7,  #comb gain & secondary gain\n",
    "    [1, 2, 3, 4, 5],#DELAY come\n",
    "    0.7, #ap gain\n",
    "    [1, 2, 3], #all pass delay\n",
    "    0.7)\n",
    "testy1.x = np.array([[60,20],[8,40],[8,60], [60,20],[8,40],[8,60], [60,20],[8,40],[8,60], [60,20],[8,40],[8,60]])\n",
    "testy1.scale_fs = 22050"
   ]
  },
  {
   "cell_type": "code",
   "execution_count": 15,
   "id": "7761c23e",
   "metadata": {},
   "outputs": [
    {
     "name": "stdout",
     "output_type": "stream",
     "text": [
      "left channel data ==> [60  8  8 60  8  8 60  8  8 60  8  8]\n",
      "----> initiating reverb process...\n",
      "-----------> printing comb filter stage results...\n",
      "yc0 = [60.          9.9047619   9.83824641 61.78292241 11.38770054 11.07167474\n",
      " 62.80882153 12.24098807 11.78139325 63.39912708 12.73197237 12.18976749]\n",
      "yc1 = [60.         11.80952381 11.79743008 63.78698725 15.07955724 14.621078\n",
      " 66.22518481 17.18492149 16.43904332 67.79498344 18.54043014 17.60951428]\n",
      "yc2 = [60.         13.71428571 13.87755102 66.02371234 19.10694248 18.70526279\n",
      " 70.34566383 22.9761181  22.1690962  73.44661946 25.7522117  24.65436095]\n",
      "yc3 = [60.         15.61904762 16.07860922 68.50461553 23.50269122 23.38662171\n",
      " 75.2790271  29.78246322 29.20787067 80.67523249 34.78465996 33.84482765]\n",
      "yc4 = [60.          0.          2.72380952 56.10936357 11.74288185 13.46930019\n",
      " 66.22880609 21.2668838  22.43301471 74.66519201 29.20696352 29.90598555]\n",
      "-----------> comb filter stage output...\n",
      "yc_out = [300.          51.04761905  54.31564626 316.2076011   80.81977334\n",
      "  81.25393742 340.88750336 103.45137467 102.03041815 359.98115448\n",
      " 121.01623769 118.20445592]\n",
      "-----------> printing all-pass filter stage...\n",
      "yap0 = [210.         109.89940611  74.15119921 466.39695945 116.73827594\n",
      " 119.50335864 501.66614415 150.07818224 149.95198952 529.67382906\n",
      " 175.83944908 173.67414364]\n",
      "yap1 = [147.         185.55941846  83.3616255  588.5215893  170.19818519\n",
      " 147.87053402 632.57296237 213.76641922 187.11325714 668.83502435\n",
      " 247.06759084 217.79388629]\n",
      "yap2 = [102.9        240.22011447  96.84654078 610.72306755 283.09015076\n",
      " 131.76395249 682.89975365 323.1149641  182.3596713  722.47972022\n",
      " 362.89356385 217.35723245]\n",
      "-----------> comb filter stage output...\n",
      "yap_out = [102.9        240.22011447  96.84654078 610.72306755 283.09015076\n",
      " 131.76395249 682.89975365 323.1149641  182.3596713  722.47972022\n",
      " 362.89356385 217.35723245]\n"
     ]
    }
   ],
   "source": [
    "#testing class function adding reverb to a channel\n",
    "testy1.scale_fs = 10000\n",
    "#testy1.test_set_chparam()\n",
    "testy1.test_apply_reverb(\"left\")"
   ]
  },
  {
   "cell_type": "code",
   "execution_count": 16,
   "id": "760cad49",
   "metadata": {},
   "outputs": [
    {
     "name": "stdout",
     "output_type": "stream",
     "text": [
      "right channel data ==> [20 40 60 20 40 60 20 40 60 20 40 60]\n",
      "----> initiating reverb process...\n",
      "-----------> printing comb filter stage results...\n",
      "yc0 = [20.          0.         28.         -5.6        19.52       43.616\n",
      "  8.13089524 32.69138286 55.44910629 17.53703741 42.64421278 65.45039252]\n",
      "yc1 = [20.          0.         28.         -5.6        19.52       43.616\n",
      "  8.76581587 32.31043048 56.21101105 17.3491009  41.7289112  65.87409058]\n",
      "yc2 = [20.          0.         28.         -5.6        19.52       43.616\n",
      "  9.40073651 31.9294781  56.97291581 17.16116439 40.81360961 66.25747622]\n",
      "yc3 = [20.          0.         28.         -5.6        19.52       43.616\n",
      "  6.8928     29.85709714 55.32567771 16.05254217 39.14420517 65.00852985]\n",
      "yc4 = [20.          0.         28.         -5.6        19.52       43.616\n",
      "  6.8928     30.49201778 54.94472533 16.81444693 38.95626866 64.09322826]\n",
      "-----------> comb filter stage output...\n",
      "yc_out = [100.           0.         140.         -28.          97.6\n",
      " 218.08        40.08304762 157.28040635 278.90343619  84.91429181\n",
      " 203.28720742 326.68371743]\n",
      "-----------> printing all-pass filter stage...\n",
      "yap0 = [ 70.           0.          98.         -19.6         68.32\n",
      " 152.656       50.60915374 149.92485587 218.83811962  80.89192263\n",
      " 226.3523758  280.45544901]\n",
      "yap1 = [ 49.           0.          68.6        -13.72        47.824\n",
      " 106.8592      59.30736    121.49406578 183.31068373  61.47306965\n",
      " 207.52945163 251.40910785]\n",
      "yap2 = [ 34.3          0.          48.02        -9.604       33.4768\n",
      "  74.80144     63.89848533  88.69517938 158.92427861  39.30792209\n",
      " 172.80136814 226.32060038]\n",
      "-----------> comb filter stage output...\n",
      "yap_out = [ 34.3          0.          48.02        -9.604       33.4768\n",
      "  74.80144     63.89848533  88.69517938 158.92427861  39.30792209\n",
      " 172.80136814 226.32060038]\n"
     ]
    }
   ],
   "source": [
    "testy1.test_apply_reverb(\"right\")"
   ]
  },
  {
   "cell_type": "code",
   "execution_count": 17,
   "id": "a0f6de4c",
   "metadata": {},
   "outputs": [
    {
     "name": "stdout",
     "output_type": "stream",
     "text": [
      "Left Mix (Rev + Original) = [144.9        245.82011447 102.44654078 652.72306755 288.69015076\n",
      " 137.36395249 724.89975365 328.7149641  187.9596713  764.47972022\n",
      " 368.49356385 222.95723245]\n",
      "Right Mix (Rev + Original) = [ 48.3         28.          90.02         4.396       61.4768\n",
      " 116.80144     77.89848533 116.69517938 200.92427861  53.30792209\n",
      " 200.80136814 268.32060038]\n"
     ]
    }
   ],
   "source": [
    "testy1.test_raw_mix()"
   ]
  },
  {
   "cell_type": "code",
   "execution_count": 18,
   "id": "f24abfaa",
   "metadata": {},
   "outputs": [
    {
     "name": "stdout",
     "output_type": "stream",
     "text": [
      "Left Mix (Normalized) = [ 6210 10536  4391 27976 12373  5887 31070 14089  8056 32767 15794  9556]\n",
      "Right Mix (Normalized) = [ 5898  3419 10993   536  7507 14263  9512 14250 24536  6509 24521 32767]\n"
     ]
    }
   ],
   "source": [
    "testy1.test_norm_mix()"
   ]
  },
  {
   "cell_type": "code",
   "execution_count": 19,
   "id": "f88b20b4",
   "metadata": {},
   "outputs": [
    {
     "name": "stdout",
     "output_type": "stream",
     "text": [
      "Out Signal = [[ 6210  5898]\n",
      " [10536  3419]\n",
      " [ 4391 10993]\n",
      " [27976   536]\n",
      " [12373  7507]\n",
      " [ 5887 14263]\n",
      " [31070  9512]\n",
      " [14089 14250]\n",
      " [ 8056 24536]\n",
      " [32767  6509]\n",
      " [15794 24521]\n",
      " [ 9556 32767]]\n",
      "Left Side = [ 6210 10536  4391 27976 12373  5887 31070 14089  8056 32767 15794  9556]\n",
      "Right Side = [ 5898  3419 10993   536  7507 14263  9512 14250 24536  6509 24521 32767]\n"
     ]
    }
   ],
   "source": [
    "testy1.test_out_mix()"
   ]
  },
  {
   "cell_type": "markdown",
   "id": "22111f0c",
   "metadata": {},
   "source": [
    "================"
   ]
  },
  {
   "cell_type": "markdown",
   "id": "56f291e7",
   "metadata": {},
   "source": [
    "## Implementing Freeverb Algorithm to Audio File\n",
    "\n",
    "https://ccrma.stanford.edu/~jos/pasp/Freeverb.html"
   ]
  },
  {
   "cell_type": "code",
   "execution_count": 20,
   "id": "f76f4905",
   "metadata": {},
   "outputs": [],
   "source": [
    "test = new_fverb(\n",
    "   0.2, #gc\n",
    "   0.84, #sgc \n",
    "   [1557, 1617, 1491, 1422, 1277, 1356, 1188, 1116], #dc -- freeverb alg has typical 8 lpfb comb filters in parallel\n",
    "   0.5, #gap \n",
    "   [225, 556, 441, 341],#dap -- freeverb alg has typical 4 all pass filters in series \n",
    "   0.1,     #gx\n",
    ")\n",
    "\n",
    "# test = Freeverb(\n",
    "#    'Freeverb', \n",
    "#    0.2, #gc\n",
    "#    0.84, #sgc \n",
    "#    [100000, 1, 2, 3, 4, 5, 6, 7], #dc -- freeverb alg has typical 8 lpfb comb filters in parallel\n",
    "#    0.5, #gap \n",
    "#    [8, 9, 10, 11],#dap -- freeverb alg has typical 4 all pass filters in series \n",
    "#    0.1,     #gx\n",
    "# )"
   ]
  },
  {
   "cell_type": "markdown",
   "id": "7c9373d8",
   "metadata": {},
   "source": [
    "==============================\n",
    "\n",
    "\n",
    "\n",
    "=============================="
   ]
  },
  {
   "cell_type": "code",
   "execution_count": 21,
   "id": "418571be",
   "metadata": {},
   "outputs": [
    {
     "name": "stderr",
     "output_type": "stream",
     "text": [
      "<ipython-input-21-70d904e2fc83>:2: WavFileWarning: Chunk (non-data) not understood, skipping it.\n",
      "  fs, data = wavfile.read(audiofile)\n"
     ]
    }
   ],
   "source": [
    "audiofile = \"/Users/anniechu/Desktop/twochannel.wav\"\n",
    "fs, data = wavfile.read(audiofile)"
   ]
  },
  {
   "cell_type": "code",
   "execution_count": 22,
   "id": "eed354b6",
   "metadata": {},
   "outputs": [
    {
     "name": "stdout",
     "output_type": "stream",
     "text": [
      ".Wav Contents = [[ 0  0]\n",
      " [ 0  0]\n",
      " [ 1  2]\n",
      " ...\n",
      " [ 0 -3]\n",
      " [ 0 -9]\n",
      " [ 0 -6]]\n",
      ".Wav Shape = (23493, 2)\n",
      ".Wav Length = 2.936625s\n",
      "Sampling Rate= 8000 Hz\n",
      "bit depth= <class 'numpy.int16'>\n"
     ]
    }
   ],
   "source": [
    "print(f\".Wav Contents = {data}\")\n",
    "print(f\".Wav Shape = {data.shape}\")\n",
    "length = data.shape[0] / fs\n",
    "print(f\".Wav Length = {length}s\")\n",
    "print(f\"Sampling Rate= {fs} Hz\")\n",
    "\n",
    "print(f\"bit depth= {type(data[0][0])}\")"
   ]
  },
  {
   "cell_type": "code",
   "execution_count": 23,
   "id": "f331cf42",
   "metadata": {},
   "outputs": [],
   "source": [
    "#playing original sound file\n",
    "play_obj = sa.play_buffer(data, 2, 2, fs)"
   ]
  },
  {
   "cell_type": "code",
   "execution_count": 24,
   "id": "0dd20a8d",
   "metadata": {},
   "outputs": [],
   "source": [
    "play_obj.stop()"
   ]
  },
  {
   "cell_type": "code",
   "execution_count": null,
   "id": "11c5f9bf",
   "metadata": {},
   "outputs": [],
   "source": []
  },
  {
   "cell_type": "code",
   "execution_count": 25,
   "id": "2418e509",
   "metadata": {},
   "outputs": [
    {
     "name": "stdout",
     "output_type": "stream",
     "text": [
      "[[ 0  0]\n",
      " [ 0  0]\n",
      " [ 1  2]\n",
      " ...\n",
      " [ 0 -3]\n",
      " [ 0 -9]\n",
      " [ 0 -6]]\n",
      "<class 'numpy.ndarray'>\n"
     ]
    }
   ],
   "source": [
    "print(data)\n",
    "print(type(data))"
   ]
  },
  {
   "cell_type": "code",
   "execution_count": 26,
   "id": "2d082014",
   "metadata": {},
   "outputs": [
    {
     "name": "stdout",
     "output_type": "stream",
     "text": [
      "[[ 0  0]\n",
      " [ 0  0]\n",
      " [ 1  2]\n",
      " ...\n",
      " [ 0 -3]\n",
      " [ 0 -9]\n",
      " [ 0 -6]]\n",
      "[0 0 1 ... 0 0 0]\n",
      "[ 0  0  2 ... -3 -9 -6]\n",
      "8000\n"
     ]
    }
   ],
   "source": [
    "test.x = data\n",
    "test.scale_fs = fs\n",
    "print(test.x)\n",
    "print(test.x[:,0])\n",
    "print(test.x[:,1])\n",
    "print(test.scale_fs)"
   ]
  },
  {
   "cell_type": "code",
   "execution_count": 27,
   "id": "0c6feb3d",
   "metadata": {},
   "outputs": [
    {
     "data": {
      "text/plain": [
       "(array([0, 0, 1, ..., 0, 0, 0], dtype=int16),\n",
       " array([282.44897959, 293.33333333, 270.47619048, 257.95918367,\n",
       "        231.6553288 , 245.98639456, 215.51020408, 202.44897959]),\n",
       " array([ 40.81632653, 100.861678  ,  80.        ,  61.85941043]))"
      ]
     },
     "execution_count": 27,
     "metadata": {},
     "output_type": "execute_result"
    }
   ],
   "source": [
    "#works\n",
    "test.set_chparam('left')\n",
    "# print(\"----\")\n",
    "# test.set_chparam('right')"
   ]
  },
  {
   "cell_type": "code",
   "execution_count": 28,
   "id": "e715cfb5",
   "metadata": {},
   "outputs": [
    {
     "data": {
      "text/plain": [
       "(array([0, 0, 1, ..., 0, 0, 0], dtype=int16),\n",
       " array([ 0.        ,  0.        ,  0.5       , ...,  6.14979985,\n",
       "         2.56779473, -0.77240766]),\n",
       " [array([ 0.        ,  0.        ,  4.        , ..., -3.81842154,\n",
       "         -1.51311962,  1.51120754]),\n",
       "  array([  0.        ,   0.        ,   2.        , ..., -24.68778658,\n",
       "         -18.79650554, -12.23705688]),\n",
       "  array([ 0.        ,  0.        ,  1.        , ..., -9.03987305,\n",
       "         -7.57001498, -7.27472479]),\n",
       "  array([ 0.        ,  0.        ,  0.5       , ...,  6.14979985,\n",
       "          2.56779473, -0.77240766])],\n",
       " array([  0.        ,   0.        ,   8.        , ..., -12.70553558,\n",
       "        -14.86428976, -14.40295793]),\n",
       " [array([ 0.        ,  0.        ,  1.        , ..., -2.97434494,\n",
       "         -3.29682225, -2.84043617]),\n",
       "  array([ 0.        ,  0.        ,  1.        , ..., -5.44476623,\n",
       "         -7.67518541, -8.52053989]),\n",
       "  array([ 0.        ,  0.        ,  1.        , ..., -3.47234217,\n",
       "         -5.93272023, -8.12311251]),\n",
       "  array([ 0.        ,  0.        ,  1.        , ..., -0.01562793,\n",
       "          1.91731254,  4.16891483]),\n",
       "  array([ 0.        ,  0.        ,  1.        , ..., -0.49724913,\n",
       "         -0.48599643, -0.66196634]),\n",
       "  array([0.        , 0.        , 1.        , ..., 0.68656166, 1.83894035,\n",
       "         2.96857204]),\n",
       "  array([ 0.        ,  0.        ,  1.        , ..., -0.49996708,\n",
       "         -0.82637493, -1.11362026]),\n",
       "  array([ 0.        ,  0.        ,  1.        , ..., -0.48779975,\n",
       "         -0.40344339, -0.28076962])])"
      ]
     },
     "execution_count": 28,
     "metadata": {},
     "output_type": "execute_result"
    }
   ],
   "source": [
    "test.apply_reverb(\"left\")"
   ]
  },
  {
   "cell_type": "code",
   "execution_count": 29,
   "id": "adff7eae",
   "metadata": {},
   "outputs": [],
   "source": [
    "#adding reverb to each channel\n",
    "rv_data = test.out_mix()"
   ]
  },
  {
   "cell_type": "markdown",
   "id": "b5fb19d1",
   "metadata": {},
   "source": [
    "### Audio Comparison: Original vs FREEVERBed version"
   ]
  },
  {
   "cell_type": "code",
   "execution_count": 30,
   "id": "e72939a2",
   "metadata": {},
   "outputs": [],
   "source": [
    "#original\n",
    "play_obj = sa.play_buffer(data, 2, 2, fs)"
   ]
  },
  {
   "cell_type": "code",
   "execution_count": 31,
   "id": "ed860b78",
   "metadata": {},
   "outputs": [],
   "source": [
    "play_obj.stop()"
   ]
  },
  {
   "cell_type": "code",
   "execution_count": 32,
   "id": "e85f1301",
   "metadata": {},
   "outputs": [],
   "source": [
    "#reverbed\n",
    "play_obj = sa.play_buffer(rv_data, 2, 2, fs)"
   ]
  },
  {
   "cell_type": "code",
   "execution_count": 33,
   "id": "411a5358",
   "metadata": {},
   "outputs": [],
   "source": [
    "play_obj.stop()"
   ]
  },
  {
   "cell_type": "code",
   "execution_count": 34,
   "id": "740893ce",
   "metadata": {},
   "outputs": [
    {
     "data": {
      "image/png": "[encoded data removed]",
      "text/plain": [
       "<Figure size 960x480 with 1 Axes>"
      ]
     },
     "metadata": {
      "needs_background": "light"
     },
     "output_type": "display_data"
    }
   ],
   "source": [
    "figure(figsize=(12, 6), dpi=80)\n",
    "time = np.linspace(0., length, data.shape[0])\n",
    "plt.plot(time, rv_data[:,0], label=\"reverbed\")\n",
    "plt.plot(time, data[:,0], label=\"original\")\n",
    "plt.xlim(0, 3)\n",
    "plt.legend()\n",
    "plt.xlabel(\"Time [s]\")\n",
    "plt.ylabel(\"Amplitude\")\n",
    "plt.title(\"Left Channel: Original vs Reverbed\")\n",
    "plt.show()"
   ]
  },
  {
   "cell_type": "code",
   "execution_count": 35,
   "id": "55712d89",
   "metadata": {},
   "outputs": [
    {
     "data": {
      "image/png": "[encoded data removed]",
      "text/plain": [
       "<Figure size 960x480 with 1 Axes>"
      ]
     },
     "metadata": {
      "needs_background": "light"
     },
     "output_type": "display_data"
    }
   ],
   "source": [
    "figure(figsize=(12, 6), dpi=80)\n",
    "time = np.linspace(0., length, data.shape[0])\n",
    "plt.plot(time, rv_data[:,1], label=\"reverbed\")\n",
    "plt.plot(time, data[:,1], label=\"original\")\n",
    "plt.xlim(0, 3)\n",
    "plt.legend()\n",
    "plt.xlabel(\"Time [s]\")\n",
    "plt.ylabel(\"Amplitude\")\n",
    "plt.title(\"Left Channel: Original vs Reverbed\")\n",
    "plt.show()"
   ]
  },
  {
   "cell_type": "code",
   "execution_count": null,
   "id": "2c717766",
   "metadata": {},
   "outputs": [],
   "source": []
  },
  {
   "cell_type": "code",
   "execution_count": null,
   "id": "a7ec2c4f",
   "metadata": {},
   "outputs": [],
   "source": []
  }
 ],
 "metadata": {
  "kernelspec": {
   "display_name": "Python 3",
   "language": "python",
   "name": "python3"
  },
  "language_info": {
   "codemirror_mode": {
    "name": "ipython",
    "version": 3
   },
   "file_extension": ".py",
   "mimetype": "text/x-python",
   "name": "python",
   "nbconvert_exporter": "python",
   "pygments_lexer": "ipython3",
   "version": "3.8.8"
  }
 },
 "nbformat": 4,
 "nbformat_minor": 5
}
