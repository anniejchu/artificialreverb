{
 "cells": [
  {
   "cell_type": "markdown",
   "id": "e7926330",
   "metadata": {},
   "source": [
    "## Schroeder Reverb\n",
    "#### Annie Chu | October 12, 2021\n",
    "Implementing a Schroeder reverb via feedback comb filter & all pass difference equations."
   ]
  },
  {
   "cell_type": "code",
   "execution_count": 49,
   "id": "89ed2522",
   "metadata": {},
   "outputs": [],
   "source": [
    "import numpy as np\n",
    "import matplotlib as mpl\n",
    "import matplotlib.pyplot as plt\n",
    "from scipy import signal\n",
    "from scipy.io import wavfile\n",
    "import simpleaudio as sa"
   ]
  },
  {
   "cell_type": "markdown",
   "id": "8535448f",
   "metadata": {},
   "source": [
    "#### Feedback Comb & All Pass Filters via Difference Equations"
   ]
  },
  {
   "cell_type": "code",
   "execution_count": 5,
   "id": "f426f37a",
   "metadata": {},
   "outputs": [],
   "source": [
    "# creating feedback comb filter\n",
    "def comb(x_n, g, d):\n",
    "    # x_n is numpy array of initial samples\n",
    "    y_n = np.zeros(len(x_n));\n",
    "    for i in range(len(x_n)):\n",
    "        if i-d < 0:\n",
    "            y_n[i] = x_n[i]\n",
    "        else:\n",
    "            y_n[i] = x_n[i] + g*y_n[i-d]\n",
    "    return y_n"
   ]
  },
  {
   "cell_type": "code",
   "execution_count": null,
   "id": "49ede8e5",
   "metadata": {},
   "outputs": [],
   "source": [
    "#testing comb\n",
    "x1 = np.array([1.0, 0.1, -0.1])\n",
    "\n",
    "y1 = comb(x1, 0.5, 1)\n",
    "y2 = comb(x1, 0.5, 1)\n",
    "\n",
    "print(y1)\n",
    "print(y1+y2)"
   ]
  },
  {
   "cell_type": "code",
   "execution_count": 8,
   "id": "d7ed89e4",
   "metadata": {},
   "outputs": [],
   "source": [
    "# creating all pass filter\n",
    "def allpass(x_n, g, d):\n",
    "    # x_n is numpy array of initial samples\n",
    "    y_n = np.zeros(len(x_n));\n",
    "    for i in range(len(x_n)):\n",
    "        if i-d < 0:\n",
    "            y_n[i] = g*x_n[i]\n",
    "        else:\n",
    "            y_n[i] = g*x_n[i] + x_n[i-d] - g*y_n[i-d]\n",
    "    return y_n"
   ]
  },
  {
   "cell_type": "code",
   "execution_count": 7,
   "id": "8fd1a099",
   "metadata": {},
   "outputs": [
    {
     "data": {
      "text/plain": [
       "array([ 0.5 ,  0.8 , -0.35])"
      ]
     },
     "execution_count": 7,
     "metadata": {},
     "output_type": "execute_result"
    }
   ],
   "source": [
    "#testing all pass\n",
    "x1 = np.array([1.0, 0.1, -0.1])\n",
    "\n",
    "allpass(x1, 0.5, 1)"
   ]
  },
  {
   "cell_type": "markdown",
   "id": "224dae76",
   "metadata": {},
   "source": [
    "#### Creating Schroeder Reverb\n",
    "Implementing SATREV Schroeder Reverb developed by Prof. John Chowning\n",
    "\n",
    "https://ccrma.stanford.edu/~jos/pasp/Example_Schroeder_Reverberators.html\n"
   ]
  },
  {
   "cell_type": "code",
   "execution_count": 50,
   "id": "f3a2243e",
   "metadata": {},
   "outputs": [],
   "source": [
    "def schroeder(x):\n",
    "    yc1 = comb(x, 0.805, 901) \n",
    "    yc2 = comb(x, 0.827, 778)\n",
    "    yc3 = comb(x, 0.783, 1011)\n",
    "    yc4 = comb(x, 0.764, 1123)\n",
    "\n",
    "    yc_out = yc1 + yc2 + yc3 + yc4\n",
    "    yap1 = allpass(yc_out, 0.7, 125)\n",
    "    yap2 = allpass(yap1, 0.7, 42)\n",
    "    yap3 = allpass(yap2, 0.7, 12)\n",
    "    y_final = yap3 + 0.7*x\n",
    "    return y_final"
   ]
  },
  {
   "cell_type": "code",
   "execution_count": 10,
   "id": "facf39b8",
   "metadata": {},
   "outputs": [
    {
     "name": "stdout",
     "output_type": "stream",
     "text": [
      "[ 1.   0.1 -0.1]\n",
      "[ 2.072   0.2072 -0.2072]\n"
     ]
    }
   ],
   "source": [
    "#testing schroeder\n",
    "x = np.array([1.0, 0.1, -0.1]) #input signal\n",
    "print(x)\n",
    "print(schroeder(x))"
   ]
  },
  {
   "cell_type": "markdown",
   "id": "5647b45c",
   "metadata": {},
   "source": [
    "#### Applying Reverb to .wav file \n",
    "Testing with Cantina Band (3s) file from https://www2.cs.uic.edu/~i101/SoundFiles/"
   ]
  },
  {
   "cell_type": "code",
   "execution_count": 12,
   "id": "b7e3e7d0",
   "metadata": {},
   "outputs": [],
   "source": [
    "audiofile = \"/Users/anniechu/Desktop/CantinaBand3.wav\"\n",
    "fs, cb_data = wavfile.read(audiofile)"
   ]
  },
  {
   "cell_type": "code",
   "execution_count": 53,
   "id": "1dc5c117",
   "metadata": {},
   "outputs": [
    {
     "name": "stdout",
     "output_type": "stream",
     "text": [
      ".Wav Contents = [   3    7    0 ...  -12 -427 -227]\n",
      ".Wav Shape = (66150,)\n",
      ".Wav Length = 3.0s\n",
      "Sampling Rate= 22050 Hz\n"
     ]
    }
   ],
   "source": [
    "#checking cb_data contents\n",
    "print(f\".Wav Contents = {cb_data}\")\n",
    "print(f\".Wav Shape = {cb_data.shape}\")\n",
    "length = cb_data.shape[0] / fs\n",
    "print(f\".Wav Length = {length}s\")\n",
    "print(f\"Sampling Rate= {fs} Hz\")\n"
   ]
  },
  {
   "cell_type": "code",
   "execution_count": 29,
   "id": "905e81d0",
   "metadata": {},
   "outputs": [],
   "source": [
    "#playing original cantina band .wav file\n",
    "wave_obj = sa.WaveObject.from_wave_file(audiofile)\n",
    "play_obj = wave_obj.play()\n",
    "#play_obj.wait_done()"
   ]
  },
  {
   "cell_type": "code",
   "execution_count": 30,
   "id": "2557d47f",
   "metadata": {},
   "outputs": [],
   "source": [
    "play_obj.stop()"
   ]
  },
  {
   "cell_type": "code",
   "execution_count": 42,
   "id": "b387b5d8",
   "metadata": {},
   "outputs": [
    {
     "name": "stdout",
     "output_type": "stream",
     "text": [
      "ORIGINAL = 66150 | [   3    7    0 ...  -12 -427 -227]\n",
      "REVERBED = 66150 | [    6.216         14.504          0.         ...  2553.81846747\n",
      "   381.28899904 -1742.61019732]\n"
     ]
    }
   ],
   "source": [
    "#adding reverb to cantina band .wav file\n",
    "rv_cb = schroeder(cb_data)\n",
    "\n",
    "#checking original vs reverbed array\n",
    "print(f\"ORIGINAL = {len(cb_data)} | {cb_data}\")\n",
    "print(f\"REVERBED = {len(rv_cb)} | {rv_cb}\")"
   ]
  },
  {
   "cell_type": "code",
   "execution_count": 43,
   "id": "dce1775b",
   "metadata": {},
   "outputs": [
    {
     "name": "stdout",
     "output_type": "stream",
     "text": [
      "[    5    12     0 ...  2163   323 -1476]\n"
     ]
    }
   ],
   "source": [
    "#normalizing & converting to bits for output\n",
    "rv_cb1=np.int16(rv_cb/np.max(np.abs(rv_cb)) * 32767)\n",
    "print(rv_cb1)"
   ]
  },
  {
   "cell_type": "markdown",
   "id": "faf847ec",
   "metadata": {},
   "source": [
    "#### Audio Comparison: original vs reverbed version"
   ]
  },
  {
   "cell_type": "code",
   "execution_count": 45,
   "id": "e8043061",
   "metadata": {},
   "outputs": [],
   "source": [
    "#original\n",
    "play_obj = sa.play_buffer(cb_data, 1, 2, fs)"
   ]
  },
  {
   "cell_type": "code",
   "execution_count": 46,
   "id": "f0bf7284",
   "metadata": {},
   "outputs": [],
   "source": [
    "play_obj.stop()"
   ]
  },
  {
   "cell_type": "code",
   "execution_count": 47,
   "id": "6a8d9cc7",
   "metadata": {},
   "outputs": [],
   "source": [
    "#reverbed -- is louder than original, anyway to equalize?\n",
    "play_obj = sa.play_buffer(rv_cb1, 1, 2, fs)"
   ]
  },
  {
   "cell_type": "code",
   "execution_count": 48,
   "id": "27bf0aea",
   "metadata": {},
   "outputs": [],
   "source": [
    "play_obj.stop()"
   ]
  },
  {
   "cell_type": "code",
   "execution_count": null,
   "id": "bdf9064f",
   "metadata": {},
   "outputs": [],
   "source": []
  }
 ],
 "metadata": {
  "kernelspec": {
   "display_name": "Python 3",
   "language": "python",
   "name": "python3"
  },
  "language_info": {
   "codemirror_mode": {
    "name": "ipython",
    "version": 3
   },
   "file_extension": ".py",
   "mimetype": "text/x-python",
   "name": "python",
   "nbconvert_exporter": "python",
   "pygments_lexer": "ipython3",
   "version": "3.8.8"
  }
 },
 "nbformat": 4,
 "nbformat_minor": 5
}
